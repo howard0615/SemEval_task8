{
 "cells": [
  {
   "cell_type": "code",
   "execution_count": 2,
   "metadata": {},
   "outputs": [],
   "source": [
    "import pandas as pd\n",
    "fold1_val = pd.read_csv(\n",
    "    \"/workplace/yhcheng/SemEval_task8/workspace/simple_transformers/sentence_classification/eval/gold/fold-1/sentence_val_fold-1_word_format.csv\")\n",
    "fold2_val = pd.read_csv(\n",
    "    \"/workplace/yhcheng/SemEval_task8/workspace/simple_transformers/sentence_classification/eval/gold/fold-2/sentence_val_fold-2_word_format.csv\")\n",
    "fold3_val = pd.read_csv(\n",
    "    \"/workplace/yhcheng/SemEval_task8/workspace/simple_transformers/sentence_classification/eval/gold/fold-3/sentence_val_fold-3_word_format.csv\")\n",
    "fold4_val = pd.read_csv(\n",
    "    \"/workplace/yhcheng/SemEval_task8/workspace/simple_transformers/sentence_classification/eval/gold/fold-4/sentence_val_fold-4_word_format.csv\")\n",
    "fold5_val = pd.read_csv(\n",
    "    \"/workplace/yhcheng/SemEval_task8/workspace/simple_transformers/sentence_classification/eval/gold/fold-5/sentence_val_fold-5_word_format.csv\")\n"
   ]
  },
  {
   "cell_type": "code",
   "execution_count": 3,
   "metadata": {},
   "outputs": [
    {
     "data": {
      "text/plain": [
       "(124487, 122505, 125000, 123846, 124114)"
      ]
     },
     "execution_count": 3,
     "metadata": {},
     "output_type": "execute_result"
    }
   ],
   "source": [
    "len(fold1_val), len(fold2_val), len(fold3_val), len(fold4_val), len(fold5_val)\n"
   ]
  },
  {
   "cell_type": "code",
   "execution_count": 4,
   "metadata": {},
   "outputs": [
    {
     "data": {
      "text/html": [
       "<div>\n",
       "<style scoped>\n",
       "    .dataframe tbody tr th:only-of-type {\n",
       "        vertical-align: middle;\n",
       "    }\n",
       "\n",
       "    .dataframe tbody tr th {\n",
       "        vertical-align: top;\n",
       "    }\n",
       "\n",
       "    .dataframe thead th {\n",
       "        text-align: right;\n",
       "    }\n",
       "</style>\n",
       "<table border=\"1\" class=\"dataframe\">\n",
       "  <thead>\n",
       "    <tr style=\"text-align: right;\">\n",
       "      <th></th>\n",
       "      <th>post_id</th>\n",
       "      <th>subreddit_id</th>\n",
       "      <th>sentence_id</th>\n",
       "      <th>words</th>\n",
       "      <th>labels</th>\n",
       "    </tr>\n",
       "  </thead>\n",
       "  <tbody>\n",
       "    <tr>\n",
       "      <th>0</th>\n",
       "      <td>s1jpia</td>\n",
       "      <td>t5_2s23e</td>\n",
       "      <td>1</td>\n",
       "      <td>I</td>\n",
       "      <td>O</td>\n",
       "    </tr>\n",
       "    <tr>\n",
       "      <th>1</th>\n",
       "      <td>s1jpia</td>\n",
       "      <td>t5_2s23e</td>\n",
       "      <td>1</td>\n",
       "      <td>wrote</td>\n",
       "      <td>O</td>\n",
       "    </tr>\n",
       "    <tr>\n",
       "      <th>2</th>\n",
       "      <td>s1jpia</td>\n",
       "      <td>t5_2s23e</td>\n",
       "      <td>1</td>\n",
       "      <td>this</td>\n",
       "      <td>O</td>\n",
       "    </tr>\n",
       "    <tr>\n",
       "      <th>3</th>\n",
       "      <td>s1jpia</td>\n",
       "      <td>t5_2s23e</td>\n",
       "      <td>1</td>\n",
       "      <td>a</td>\n",
       "      <td>O</td>\n",
       "    </tr>\n",
       "    <tr>\n",
       "      <th>4</th>\n",
       "      <td>s1jpia</td>\n",
       "      <td>t5_2s23e</td>\n",
       "      <td>1</td>\n",
       "      <td>few</td>\n",
       "      <td>O</td>\n",
       "    </tr>\n",
       "    <tr>\n",
       "      <th>...</th>\n",
       "      <td>...</td>\n",
       "      <td>...</td>\n",
       "      <td>...</td>\n",
       "      <td>...</td>\n",
       "      <td>...</td>\n",
       "    </tr>\n",
       "    <tr>\n",
       "      <th>122500</th>\n",
       "      <td>sivvy6</td>\n",
       "      <td>t5_2r876</td>\n",
       "      <td>7</td>\n",
       "      <td>now</td>\n",
       "      <td>per_exp</td>\n",
       "    </tr>\n",
       "    <tr>\n",
       "      <th>122501</th>\n",
       "      <td>sivvy6</td>\n",
       "      <td>t5_2r876</td>\n",
       "      <td>7</td>\n",
       "      <td>with</td>\n",
       "      <td>per_exp</td>\n",
       "    </tr>\n",
       "    <tr>\n",
       "      <th>122502</th>\n",
       "      <td>sivvy6</td>\n",
       "      <td>t5_2r876</td>\n",
       "      <td>7</td>\n",
       "      <td>Trikafta.</td>\n",
       "      <td>per_exp</td>\n",
       "    </tr>\n",
       "    <tr>\n",
       "      <th>122503</th>\n",
       "      <td>ri83g1</td>\n",
       "      <td>t5_2r876</td>\n",
       "      <td>6</td>\n",
       "      <td>Thank</td>\n",
       "      <td>O</td>\n",
       "    </tr>\n",
       "    <tr>\n",
       "      <th>122504</th>\n",
       "      <td>ri83g1</td>\n",
       "      <td>t5_2r876</td>\n",
       "      <td>6</td>\n",
       "      <td>you.</td>\n",
       "      <td>O</td>\n",
       "    </tr>\n",
       "  </tbody>\n",
       "</table>\n",
       "<p>122505 rows × 5 columns</p>\n",
       "</div>"
      ],
      "text/plain": [
       "       post_id subreddit_id  sentence_id      words   labels\n",
       "0       s1jpia     t5_2s23e            1          I        O\n",
       "1       s1jpia     t5_2s23e            1      wrote        O\n",
       "2       s1jpia     t5_2s23e            1       this        O\n",
       "3       s1jpia     t5_2s23e            1          a        O\n",
       "4       s1jpia     t5_2s23e            1        few        O\n",
       "...        ...          ...          ...        ...      ...\n",
       "122500  sivvy6     t5_2r876            7        now  per_exp\n",
       "122501  sivvy6     t5_2r876            7       with  per_exp\n",
       "122502  sivvy6     t5_2r876            7  Trikafta.  per_exp\n",
       "122503  ri83g1     t5_2r876            6      Thank        O\n",
       "122504  ri83g1     t5_2r876            6       you.        O\n",
       "\n",
       "[122505 rows x 5 columns]"
      ]
     },
     "execution_count": 4,
     "metadata": {},
     "output_type": "execute_result"
    }
   ],
   "source": [
    "fold2_val\n"
   ]
  },
  {
   "cell_type": "code",
   "execution_count": 5,
   "metadata": {},
   "outputs": [],
   "source": [
    "roberta_f2_e4 = pd.read_csv(\n",
    "    \"/workplace/yhcheng/SemEval_task8/workspace/simple_transformers/sentence_classification/eval/word_format/roberta-large_bs32_ga1_lr1e-05/fold-2/prediction_epoch-4.csv\")\n",
    "roberta_f3_e4 = pd.read_csv(\n",
    "    \"/workplace/yhcheng/SemEval_task8/workspace/simple_transformers/sentence_classification/eval/word_format/roberta-large_bs32_ga1_lr1e-05/fold-3/prediction_epoch-4.csv\")\n",
    "deberta_f2_e3 = pd.read_csv(\n",
    "    \"/workplace/yhcheng/SemEval_task8/workspace/simple_transformers/sentence_classification/eval/word_format/microsoft-deberta-large_bs32_ga1_lr1e-05/fold-2/prediction_epoch-3.csv\")\n",
    "deberta_f3_e3 = pd.read_csv(\n",
    "    \"/workplace/yhcheng/SemEval_task8/workspace/simple_transformers/sentence_classification/eval/word_format/microsoft-deberta-large_bs32_ga1_lr1e-05/fold-3/prediction_epoch-3.csv\")\n"
   ]
  },
  {
   "cell_type": "code",
   "execution_count": 6,
   "metadata": {},
   "outputs": [
    {
     "data": {
      "text/html": [
       "<div>\n",
       "<style scoped>\n",
       "    .dataframe tbody tr th:only-of-type {\n",
       "        vertical-align: middle;\n",
       "    }\n",
       "\n",
       "    .dataframe tbody tr th {\n",
       "        vertical-align: top;\n",
       "    }\n",
       "\n",
       "    .dataframe thead th {\n",
       "        text-align: right;\n",
       "    }\n",
       "</style>\n",
       "<table border=\"1\" class=\"dataframe\">\n",
       "  <thead>\n",
       "    <tr style=\"text-align: right;\">\n",
       "      <th></th>\n",
       "      <th>words</th>\n",
       "      <th>labels</th>\n",
       "    </tr>\n",
       "  </thead>\n",
       "  <tbody>\n",
       "    <tr>\n",
       "      <th>0</th>\n",
       "      <td>I</td>\n",
       "      <td>O</td>\n",
       "    </tr>\n",
       "    <tr>\n",
       "      <th>1</th>\n",
       "      <td>wrote</td>\n",
       "      <td>O</td>\n",
       "    </tr>\n",
       "    <tr>\n",
       "      <th>2</th>\n",
       "      <td>this</td>\n",
       "      <td>O</td>\n",
       "    </tr>\n",
       "    <tr>\n",
       "      <th>3</th>\n",
       "      <td>a</td>\n",
       "      <td>O</td>\n",
       "    </tr>\n",
       "    <tr>\n",
       "      <th>4</th>\n",
       "      <td>few</td>\n",
       "      <td>O</td>\n",
       "    </tr>\n",
       "    <tr>\n",
       "      <th>...</th>\n",
       "      <td>...</td>\n",
       "      <td>...</td>\n",
       "    </tr>\n",
       "    <tr>\n",
       "      <th>122500</th>\n",
       "      <td>now</td>\n",
       "      <td>O</td>\n",
       "    </tr>\n",
       "    <tr>\n",
       "      <th>122501</th>\n",
       "      <td>with</td>\n",
       "      <td>O</td>\n",
       "    </tr>\n",
       "    <tr>\n",
       "      <th>122502</th>\n",
       "      <td>Trikafta.</td>\n",
       "      <td>O</td>\n",
       "    </tr>\n",
       "    <tr>\n",
       "      <th>122503</th>\n",
       "      <td>Thank</td>\n",
       "      <td>O</td>\n",
       "    </tr>\n",
       "    <tr>\n",
       "      <th>122504</th>\n",
       "      <td>you.</td>\n",
       "      <td>O</td>\n",
       "    </tr>\n",
       "  </tbody>\n",
       "</table>\n",
       "<p>122505 rows × 2 columns</p>\n",
       "</div>"
      ],
      "text/plain": [
       "            words labels\n",
       "0               I      O\n",
       "1           wrote      O\n",
       "2            this      O\n",
       "3               a      O\n",
       "4             few      O\n",
       "...           ...    ...\n",
       "122500        now      O\n",
       "122501       with      O\n",
       "122502  Trikafta.      O\n",
       "122503      Thank      O\n",
       "122504       you.      O\n",
       "\n",
       "[122505 rows x 2 columns]"
      ]
     },
     "execution_count": 6,
     "metadata": {},
     "output_type": "execute_result"
    }
   ],
   "source": [
    "roberta_f2_e4\n"
   ]
  },
  {
   "cell_type": "code",
   "execution_count": 7,
   "metadata": {},
   "outputs": [
    {
     "data": {
      "text/html": [
       "<div>\n",
       "<style scoped>\n",
       "    .dataframe tbody tr th:only-of-type {\n",
       "        vertical-align: middle;\n",
       "    }\n",
       "\n",
       "    .dataframe tbody tr th {\n",
       "        vertical-align: top;\n",
       "    }\n",
       "\n",
       "    .dataframe thead th {\n",
       "        text-align: right;\n",
       "    }\n",
       "</style>\n",
       "<table border=\"1\" class=\"dataframe\">\n",
       "  <thead>\n",
       "    <tr style=\"text-align: right;\">\n",
       "      <th></th>\n",
       "      <th>words</th>\n",
       "      <th>labels</th>\n",
       "    </tr>\n",
       "  </thead>\n",
       "  <tbody>\n",
       "    <tr>\n",
       "      <th>0</th>\n",
       "      <td>When</td>\n",
       "      <td>O</td>\n",
       "    </tr>\n",
       "    <tr>\n",
       "      <th>1</th>\n",
       "      <td>I</td>\n",
       "      <td>O</td>\n",
       "    </tr>\n",
       "    <tr>\n",
       "      <th>2</th>\n",
       "      <td>was</td>\n",
       "      <td>O</td>\n",
       "    </tr>\n",
       "    <tr>\n",
       "      <th>3</th>\n",
       "      <td>17,</td>\n",
       "      <td>O</td>\n",
       "    </tr>\n",
       "    <tr>\n",
       "      <th>4</th>\n",
       "      <td>it</td>\n",
       "      <td>O</td>\n",
       "    </tr>\n",
       "    <tr>\n",
       "      <th>...</th>\n",
       "      <td>...</td>\n",
       "      <td>...</td>\n",
       "    </tr>\n",
       "    <tr>\n",
       "      <th>124995</th>\n",
       "      <td>the</td>\n",
       "      <td>O</td>\n",
       "    </tr>\n",
       "    <tr>\n",
       "      <th>124996</th>\n",
       "      <td>beginning</td>\n",
       "      <td>O</td>\n",
       "    </tr>\n",
       "    <tr>\n",
       "      <th>124997</th>\n",
       "      <td>of</td>\n",
       "      <td>O</td>\n",
       "    </tr>\n",
       "    <tr>\n",
       "      <th>124998</th>\n",
       "      <td>the</td>\n",
       "      <td>O</td>\n",
       "    </tr>\n",
       "    <tr>\n",
       "      <th>124999</th>\n",
       "      <td>pandemic.</td>\n",
       "      <td>O</td>\n",
       "    </tr>\n",
       "  </tbody>\n",
       "</table>\n",
       "<p>125000 rows × 2 columns</p>\n",
       "</div>"
      ],
      "text/plain": [
       "            words labels\n",
       "0            When      O\n",
       "1               I      O\n",
       "2             was      O\n",
       "3             17,      O\n",
       "4              it      O\n",
       "...           ...    ...\n",
       "124995        the      O\n",
       "124996  beginning      O\n",
       "124997         of      O\n",
       "124998        the      O\n",
       "124999  pandemic.      O\n",
       "\n",
       "[125000 rows x 2 columns]"
      ]
     },
     "execution_count": 7,
     "metadata": {},
     "output_type": "execute_result"
    }
   ],
   "source": [
    "deberta_f3_e3\n"
   ]
  },
  {
   "cell_type": "code",
   "execution_count": 8,
   "metadata": {},
   "outputs": [
    {
     "data": {
      "text/html": [
       "<div>\n",
       "<style scoped>\n",
       "    .dataframe tbody tr th:only-of-type {\n",
       "        vertical-align: middle;\n",
       "    }\n",
       "\n",
       "    .dataframe tbody tr th {\n",
       "        vertical-align: top;\n",
       "    }\n",
       "\n",
       "    .dataframe thead th {\n",
       "        text-align: right;\n",
       "    }\n",
       "</style>\n",
       "<table border=\"1\" class=\"dataframe\">\n",
       "  <thead>\n",
       "    <tr style=\"text-align: right;\">\n",
       "      <th></th>\n",
       "      <th>post_id</th>\n",
       "      <th>subreddit_id</th>\n",
       "      <th>sentence_id</th>\n",
       "      <th>words</th>\n",
       "      <th>labels</th>\n",
       "    </tr>\n",
       "  </thead>\n",
       "  <tbody>\n",
       "  </tbody>\n",
       "</table>\n",
       "</div>"
      ],
      "text/plain": [
       "Empty DataFrame\n",
       "Columns: [post_id, subreddit_id, sentence_id, words, labels]\n",
       "Index: []"
      ]
     },
     "execution_count": 8,
     "metadata": {},
     "output_type": "execute_result"
    }
   ],
   "source": [
    "fold2_val.loc[fold2_val[\"words\"] != roberta_f2_e4[\"words\"]]\n"
   ]
  },
  {
   "cell_type": "code",
   "execution_count": 9,
   "metadata": {},
   "outputs": [
    {
     "data": {
      "text/html": [
       "<div>\n",
       "<style scoped>\n",
       "    .dataframe tbody tr th:only-of-type {\n",
       "        vertical-align: middle;\n",
       "    }\n",
       "\n",
       "    .dataframe tbody tr th {\n",
       "        vertical-align: top;\n",
       "    }\n",
       "\n",
       "    .dataframe thead th {\n",
       "        text-align: right;\n",
       "    }\n",
       "</style>\n",
       "<table border=\"1\" class=\"dataframe\">\n",
       "  <thead>\n",
       "    <tr style=\"text-align: right;\">\n",
       "      <th></th>\n",
       "      <th>post_id</th>\n",
       "      <th>subreddit_id</th>\n",
       "      <th>sentence_id</th>\n",
       "      <th>words</th>\n",
       "      <th>labels</th>\n",
       "    </tr>\n",
       "  </thead>\n",
       "  <tbody>\n",
       "  </tbody>\n",
       "</table>\n",
       "</div>"
      ],
      "text/plain": [
       "Empty DataFrame\n",
       "Columns: [post_id, subreddit_id, sentence_id, words, labels]\n",
       "Index: []"
      ]
     },
     "execution_count": 9,
     "metadata": {},
     "output_type": "execute_result"
    }
   ],
   "source": [
    "fold3_val.loc[fold3_val[\"words\"] != deberta_f3_e3[\"words\"]]\n"
   ]
  },
  {
   "cell_type": "code",
   "execution_count": 10,
   "metadata": {},
   "outputs": [
    {
     "name": "stdout",
     "output_type": "stream",
     "text": [
      "roberta_f2_e4 fold2 正確的有:87421\n",
      "deberta_f2_e3 fold2 正確的有:88038\n"
     ]
    }
   ],
   "source": [
    "# roberta 在 fold2 中對的數量\n",
    "\n",
    "print(\"roberta_f2_e4 fold2 正確的有:\" +\n",
    "      str(len(fold2_val.loc[fold2_val['labels'] == roberta_f2_e4['labels']])))\n",
    "print(\"deberta_f2_e3 fold2 正確的有:\" +\n",
    "      str(len(fold2_val.loc[fold2_val['labels'] == deberta_f2_e3['labels']])))\n"
   ]
  },
  {
   "cell_type": "code",
   "execution_count": 11,
   "metadata": {},
   "outputs": [
    {
     "name": "stdout",
     "output_type": "stream",
     "text": [
      "roberta_f3_e4 fold3 正確的有:87664\n",
      "deberta_f3_e3 fold3 正確的有:85706\n"
     ]
    }
   ],
   "source": [
    "# roberta 在 fold2 中對的數量\n",
    "print(\"roberta_f3_e4 fold3 正確的有:\" +\n",
    "      str(len(fold3_val.loc[fold3_val['labels'] == roberta_f3_e4['labels']])))\n",
    "print(\"deberta_f3_e3 fold3 正確的有:\" +\n",
    "      str(len(fold3_val.loc[fold3_val['labels'] == deberta_f3_e3['labels']])))\n"
   ]
  },
  {
   "cell_type": "code",
   "execution_count": 12,
   "metadata": {},
   "outputs": [],
   "source": [
    "corr_rob_f2 = len(\n",
    "    fold2_val.loc[fold2_val['labels'] == roberta_f2_e4['labels']])\n",
    "corr_deb_f2 = len(\n",
    "    fold2_val.loc[fold2_val['labels'] == deberta_f2_e3['labels']])\n"
   ]
  },
  {
   "cell_type": "code",
   "execution_count": 13,
   "metadata": {},
   "outputs": [],
   "source": [
    "# fold 2 m1=robert m2=deberta\n",
    "m1c_m2c = fold2_val.loc[(fold2_val['labels'] == roberta_f2_e4[\"labels\"]) & (\n",
    "    fold2_val['labels'] == deberta_f2_e3[\"labels\"])]\n",
    "m1c_m2w = fold2_val.loc[(fold2_val['labels'] == roberta_f2_e4['labels']) & (\n",
    "    fold2_val['labels'] != deberta_f2_e3['labels'])]\n",
    "m1w_m2c = fold2_val.loc[(fold2_val['labels'] != roberta_f2_e4['labels']) & (\n",
    "    fold2_val['labels'] == deberta_f2_e3['labels'])]\n",
    "m1w_m2w = fold2_val.loc[(fold2_val['labels'] != roberta_f2_e4['labels']) & (\n",
    "    fold2_val['labels'] != deberta_f2_e3['labels'])]\n"
   ]
  },
  {
   "cell_type": "code",
   "execution_count": 14,
   "metadata": {},
   "outputs": [
    {
     "data": {
      "text/html": [
       "<div>\n",
       "<style scoped>\n",
       "    .dataframe tbody tr th:only-of-type {\n",
       "        vertical-align: middle;\n",
       "    }\n",
       "\n",
       "    .dataframe tbody tr th {\n",
       "        vertical-align: top;\n",
       "    }\n",
       "\n",
       "    .dataframe thead th {\n",
       "        text-align: right;\n",
       "    }\n",
       "</style>\n",
       "<table border=\"1\" class=\"dataframe\">\n",
       "  <thead>\n",
       "    <tr style=\"text-align: right;\">\n",
       "      <th></th>\n",
       "      <th>post_id</th>\n",
       "      <th>subreddit_id</th>\n",
       "      <th>sentence_id</th>\n",
       "      <th>words</th>\n",
       "      <th>labels</th>\n",
       "    </tr>\n",
       "  </thead>\n",
       "  <tbody>\n",
       "    <tr>\n",
       "      <th>0</th>\n",
       "      <td>s1jpia</td>\n",
       "      <td>t5_2s23e</td>\n",
       "      <td>1</td>\n",
       "      <td>I</td>\n",
       "      <td>O</td>\n",
       "    </tr>\n",
       "    <tr>\n",
       "      <th>1</th>\n",
       "      <td>s1jpia</td>\n",
       "      <td>t5_2s23e</td>\n",
       "      <td>1</td>\n",
       "      <td>wrote</td>\n",
       "      <td>O</td>\n",
       "    </tr>\n",
       "    <tr>\n",
       "      <th>2</th>\n",
       "      <td>s1jpia</td>\n",
       "      <td>t5_2s23e</td>\n",
       "      <td>1</td>\n",
       "      <td>this</td>\n",
       "      <td>O</td>\n",
       "    </tr>\n",
       "    <tr>\n",
       "      <th>3</th>\n",
       "      <td>s1jpia</td>\n",
       "      <td>t5_2s23e</td>\n",
       "      <td>1</td>\n",
       "      <td>a</td>\n",
       "      <td>O</td>\n",
       "    </tr>\n",
       "    <tr>\n",
       "      <th>4</th>\n",
       "      <td>s1jpia</td>\n",
       "      <td>t5_2s23e</td>\n",
       "      <td>1</td>\n",
       "      <td>few</td>\n",
       "      <td>O</td>\n",
       "    </tr>\n",
       "    <tr>\n",
       "      <th>...</th>\n",
       "      <td>...</td>\n",
       "      <td>...</td>\n",
       "      <td>...</td>\n",
       "      <td>...</td>\n",
       "      <td>...</td>\n",
       "    </tr>\n",
       "    <tr>\n",
       "      <th>122462</th>\n",
       "      <td>sypylg</td>\n",
       "      <td>t5_2saq9</td>\n",
       "      <td>6</td>\n",
       "      <td>not</td>\n",
       "      <td>question</td>\n",
       "    </tr>\n",
       "    <tr>\n",
       "      <th>122463</th>\n",
       "      <td>sypylg</td>\n",
       "      <td>t5_2saq9</td>\n",
       "      <td>6</td>\n",
       "      <td>for</td>\n",
       "      <td>question</td>\n",
       "    </tr>\n",
       "    <tr>\n",
       "      <th>122464</th>\n",
       "      <td>sypylg</td>\n",
       "      <td>t5_2saq9</td>\n",
       "      <td>6</td>\n",
       "      <td>them?</td>\n",
       "      <td>question</td>\n",
       "    </tr>\n",
       "    <tr>\n",
       "      <th>122503</th>\n",
       "      <td>ri83g1</td>\n",
       "      <td>t5_2r876</td>\n",
       "      <td>6</td>\n",
       "      <td>Thank</td>\n",
       "      <td>O</td>\n",
       "    </tr>\n",
       "    <tr>\n",
       "      <th>122504</th>\n",
       "      <td>ri83g1</td>\n",
       "      <td>t5_2r876</td>\n",
       "      <td>6</td>\n",
       "      <td>you.</td>\n",
       "      <td>O</td>\n",
       "    </tr>\n",
       "  </tbody>\n",
       "</table>\n",
       "<p>79646 rows × 5 columns</p>\n",
       "</div>"
      ],
      "text/plain": [
       "       post_id subreddit_id  sentence_id  words    labels\n",
       "0       s1jpia     t5_2s23e            1      I         O\n",
       "1       s1jpia     t5_2s23e            1  wrote         O\n",
       "2       s1jpia     t5_2s23e            1   this         O\n",
       "3       s1jpia     t5_2s23e            1      a         O\n",
       "4       s1jpia     t5_2s23e            1    few         O\n",
       "...        ...          ...          ...    ...       ...\n",
       "122462  sypylg     t5_2saq9            6    not  question\n",
       "122463  sypylg     t5_2saq9            6    for  question\n",
       "122464  sypylg     t5_2saq9            6  them?  question\n",
       "122503  ri83g1     t5_2r876            6  Thank         O\n",
       "122504  ri83g1     t5_2r876            6   you.         O\n",
       "\n",
       "[79646 rows x 5 columns]"
      ]
     },
     "execution_count": 14,
     "metadata": {},
     "output_type": "execute_result"
    }
   ],
   "source": [
    "m1c_m2c\n"
   ]
  },
  {
   "cell_type": "code",
   "execution_count": 15,
   "metadata": {},
   "outputs": [
    {
     "data": {
      "text/plain": [
       "(79646, 7775, 8392, 26692)"
      ]
     },
     "execution_count": 15,
     "metadata": {},
     "output_type": "execute_result"
    }
   ],
   "source": [
    "# fold2 mcnemar test model 1 and model 2\n",
    "len(m1c_m2c), len(m1c_m2w), len(m1w_m2c), len(m1w_m2w)\n"
   ]
  },
  {
   "cell_type": "code",
   "execution_count": 16,
   "metadata": {},
   "outputs": [
    {
     "data": {
      "text/plain": [
       "(122505, 122505)"
      ]
     },
     "execution_count": 16,
     "metadata": {},
     "output_type": "execute_result"
    }
   ],
   "source": [
    "len(m1c_m2c) + len(m1c_m2w) + len(m1w_m2c) + len(m1w_m2w), len(fold2_val)\n"
   ]
  },
  {
   "cell_type": "code",
   "execution_count": 17,
   "metadata": {},
   "outputs": [
    {
     "name": "stdout",
     "output_type": "stream",
     "text": [
      "chi-squared of fold2: 7775\n",
      "p-value of fold2: 1.2645142823545577e-06\n"
     ]
    }
   ],
   "source": [
    "import numpy as np\n",
    "from mlxtend.evaluate import mcnemar\n",
    "\n",
    "tb_fold2 = np.array([[len(m1c_m2c), len(m1c_m2w)],\n",
    "                     [len(m1w_m2c), len(m1w_m2w)]])\n",
    "\n",
    "chi2_f2, p_f2 = mcnemar(ary=tb_fold2, exact=True)\n",
    "\n",
    "print(f\"chi-squared of fold2: {chi2_f2}\")\n",
    "print(f\"p-value of fold2: {p_f2}\")\n"
   ]
  },
  {
   "cell_type": "code",
   "execution_count": null,
   "metadata": {},
   "outputs": [],
   "source": []
  },
  {
   "cell_type": "code",
   "execution_count": 18,
   "metadata": {},
   "outputs": [],
   "source": [
    "# fold 2 m1=robert m2=deberta\n",
    "m1c_m2c_f3 = fold3_val.loc[(fold3_val['labels'] == roberta_f3_e4[\"labels\"]) & (\n",
    "    fold3_val['labels'] == deberta_f3_e3[\"labels\"])]\n",
    "m1c_m2w_f3 = fold3_val.loc[(fold3_val['labels'] == roberta_f3_e4['labels']) & (\n",
    "    fold3_val['labels'] != deberta_f3_e3['labels'])]\n",
    "m1w_m2c_f3 = fold3_val.loc[(fold3_val['labels'] != roberta_f3_e4['labels']) & (\n",
    "    fold3_val['labels'] == deberta_f3_e3['labels'])]\n",
    "m1w_m2w_f3 = fold3_val.loc[(fold3_val['labels'] != roberta_f3_e4['labels']) & (\n",
    "    fold3_val['labels'] != deberta_f3_e3['labels'])]\n"
   ]
  },
  {
   "cell_type": "code",
   "execution_count": 19,
   "metadata": {},
   "outputs": [
    {
     "data": {
      "text/plain": [
       "(78708, 8956, 6998, 30338)"
      ]
     },
     "execution_count": 19,
     "metadata": {},
     "output_type": "execute_result"
    }
   ],
   "source": [
    "len(m1c_m2c_f3), len(m1c_m2w_f3), len(m1w_m2c_f3), len(m1w_m2w_f3)\n"
   ]
  },
  {
   "cell_type": "code",
   "execution_count": 20,
   "metadata": {},
   "outputs": [
    {
     "data": {
      "text/plain": [
       "(125000, 125000)"
      ]
     },
     "execution_count": 20,
     "metadata": {},
     "output_type": "execute_result"
    }
   ],
   "source": [
    "len(m1c_m2c_f3) + len(m1c_m2w_f3) + \\\n",
    "    len(m1w_m2c_f3) + len(m1w_m2w_f3), len(fold3_val)\n"
   ]
  },
  {
   "cell_type": "code",
   "execution_count": 21,
   "metadata": {},
   "outputs": [
    {
     "name": "stdout",
     "output_type": "stream",
     "text": [
      "chi-squared of fold3: 6998\n",
      "p-value of fold3: 2.8251686573178394e-54\n"
     ]
    }
   ],
   "source": [
    "import numpy as np\n",
    "from mlxtend.evaluate import mcnemar\n",
    "\n",
    "tb_fold3 = np.array([[len(m1c_m2c_f3), len(m1c_m2w_f3)],\n",
    "                     [len(m1w_m2c_f3), len(m1w_m2w_f3)]])\n",
    "\n",
    "chi2_f3, p_f3 = mcnemar(ary=tb_fold3, exact=True)\n",
    "\n",
    "print(f\"chi-squared of fold3: {chi2_f3}\")\n",
    "print(f\"p-value of fold3: {p_f3}\")\n"
   ]
  },
  {
   "cell_type": "code",
   "execution_count": null,
   "metadata": {},
   "outputs": [],
   "source": []
  },
  {
   "cell_type": "code",
   "execution_count": null,
   "metadata": {},
   "outputs": [],
   "source": []
  },
  {
   "cell_type": "code",
   "execution_count": 22,
   "metadata": {},
   "outputs": [],
   "source": [
    "deberta_v3_f2_e4 = pd.read_csv(\n",
    "    \"/workplace/yhcheng/SemEval_task8/workspace/simple_transformers/sentence_classification/eval/word_format/microsoft-deberta-v3-large_bs32_ga1_lr1e-05/fold-2/prediction_epoch-4.csv\")\n",
    "deberta_v3_f3_e3 = pd.read_csv(\n",
    "    \"/workplace/yhcheng/SemEval_task8/workspace/simple_transformers/sentence_classification/eval/word_format/microsoft-deberta-v3-large_bs32_ga1_lr1e-05/fold-3/prediction_epoch-3.csv\")\n"
   ]
  },
  {
   "cell_type": "code",
   "execution_count": 23,
   "metadata": {},
   "outputs": [
    {
     "data": {
      "text/html": [
       "<div>\n",
       "<style scoped>\n",
       "    .dataframe tbody tr th:only-of-type {\n",
       "        vertical-align: middle;\n",
       "    }\n",
       "\n",
       "    .dataframe tbody tr th {\n",
       "        vertical-align: top;\n",
       "    }\n",
       "\n",
       "    .dataframe thead th {\n",
       "        text-align: right;\n",
       "    }\n",
       "</style>\n",
       "<table border=\"1\" class=\"dataframe\">\n",
       "  <thead>\n",
       "    <tr style=\"text-align: right;\">\n",
       "      <th></th>\n",
       "      <th>words</th>\n",
       "      <th>labels</th>\n",
       "    </tr>\n",
       "  </thead>\n",
       "  <tbody>\n",
       "    <tr>\n",
       "      <th>0</th>\n",
       "      <td>When</td>\n",
       "      <td>O</td>\n",
       "    </tr>\n",
       "    <tr>\n",
       "      <th>1</th>\n",
       "      <td>I</td>\n",
       "      <td>O</td>\n",
       "    </tr>\n",
       "    <tr>\n",
       "      <th>2</th>\n",
       "      <td>was</td>\n",
       "      <td>O</td>\n",
       "    </tr>\n",
       "    <tr>\n",
       "      <th>3</th>\n",
       "      <td>17,</td>\n",
       "      <td>O</td>\n",
       "    </tr>\n",
       "    <tr>\n",
       "      <th>4</th>\n",
       "      <td>it</td>\n",
       "      <td>O</td>\n",
       "    </tr>\n",
       "    <tr>\n",
       "      <th>...</th>\n",
       "      <td>...</td>\n",
       "      <td>...</td>\n",
       "    </tr>\n",
       "    <tr>\n",
       "      <th>124995</th>\n",
       "      <td>the</td>\n",
       "      <td>O</td>\n",
       "    </tr>\n",
       "    <tr>\n",
       "      <th>124996</th>\n",
       "      <td>beginning</td>\n",
       "      <td>O</td>\n",
       "    </tr>\n",
       "    <tr>\n",
       "      <th>124997</th>\n",
       "      <td>of</td>\n",
       "      <td>O</td>\n",
       "    </tr>\n",
       "    <tr>\n",
       "      <th>124998</th>\n",
       "      <td>the</td>\n",
       "      <td>O</td>\n",
       "    </tr>\n",
       "    <tr>\n",
       "      <th>124999</th>\n",
       "      <td>pandemic.</td>\n",
       "      <td>O</td>\n",
       "    </tr>\n",
       "  </tbody>\n",
       "</table>\n",
       "<p>125000 rows × 2 columns</p>\n",
       "</div>"
      ],
      "text/plain": [
       "            words labels\n",
       "0            When      O\n",
       "1               I      O\n",
       "2             was      O\n",
       "3             17,      O\n",
       "4              it      O\n",
       "...           ...    ...\n",
       "124995        the      O\n",
       "124996  beginning      O\n",
       "124997         of      O\n",
       "124998        the      O\n",
       "124999  pandemic.      O\n",
       "\n",
       "[125000 rows x 2 columns]"
      ]
     },
     "execution_count": 23,
     "metadata": {},
     "output_type": "execute_result"
    }
   ],
   "source": [
    "deberta_f3_e3\n"
   ]
  },
  {
   "cell_type": "code",
   "execution_count": 24,
   "metadata": {},
   "outputs": [
    {
     "data": {
      "text/html": [
       "<div>\n",
       "<style scoped>\n",
       "    .dataframe tbody tr th:only-of-type {\n",
       "        vertical-align: middle;\n",
       "    }\n",
       "\n",
       "    .dataframe tbody tr th {\n",
       "        vertical-align: top;\n",
       "    }\n",
       "\n",
       "    .dataframe thead th {\n",
       "        text-align: right;\n",
       "    }\n",
       "</style>\n",
       "<table border=\"1\" class=\"dataframe\">\n",
       "  <thead>\n",
       "    <tr style=\"text-align: right;\">\n",
       "      <th></th>\n",
       "      <th>post_id</th>\n",
       "      <th>subreddit_id</th>\n",
       "      <th>sentence_id</th>\n",
       "      <th>words</th>\n",
       "      <th>labels</th>\n",
       "    </tr>\n",
       "  </thead>\n",
       "  <tbody>\n",
       "    <tr>\n",
       "      <th>0</th>\n",
       "      <td>s1jpia</td>\n",
       "      <td>t5_2s23e</td>\n",
       "      <td>3</td>\n",
       "      <td>When</td>\n",
       "      <td>O</td>\n",
       "    </tr>\n",
       "    <tr>\n",
       "      <th>1</th>\n",
       "      <td>s1jpia</td>\n",
       "      <td>t5_2s23e</td>\n",
       "      <td>3</td>\n",
       "      <td>I</td>\n",
       "      <td>O</td>\n",
       "    </tr>\n",
       "    <tr>\n",
       "      <th>2</th>\n",
       "      <td>s1jpia</td>\n",
       "      <td>t5_2s23e</td>\n",
       "      <td>3</td>\n",
       "      <td>was</td>\n",
       "      <td>O</td>\n",
       "    </tr>\n",
       "    <tr>\n",
       "      <th>3</th>\n",
       "      <td>s1jpia</td>\n",
       "      <td>t5_2s23e</td>\n",
       "      <td>3</td>\n",
       "      <td>17,</td>\n",
       "      <td>O</td>\n",
       "    </tr>\n",
       "    <tr>\n",
       "      <th>4</th>\n",
       "      <td>s1jpia</td>\n",
       "      <td>t5_2s23e</td>\n",
       "      <td>3</td>\n",
       "      <td>it</td>\n",
       "      <td>O</td>\n",
       "    </tr>\n",
       "    <tr>\n",
       "      <th>...</th>\n",
       "      <td>...</td>\n",
       "      <td>...</td>\n",
       "      <td>...</td>\n",
       "      <td>...</td>\n",
       "      <td>...</td>\n",
       "    </tr>\n",
       "    <tr>\n",
       "      <th>124995</th>\n",
       "      <td>rdbdw7</td>\n",
       "      <td>t5_2s1h9</td>\n",
       "      <td>7</td>\n",
       "      <td>the</td>\n",
       "      <td>O</td>\n",
       "    </tr>\n",
       "    <tr>\n",
       "      <th>124996</th>\n",
       "      <td>rdbdw7</td>\n",
       "      <td>t5_2s1h9</td>\n",
       "      <td>7</td>\n",
       "      <td>beginning</td>\n",
       "      <td>O</td>\n",
       "    </tr>\n",
       "    <tr>\n",
       "      <th>124997</th>\n",
       "      <td>rdbdw7</td>\n",
       "      <td>t5_2s1h9</td>\n",
       "      <td>7</td>\n",
       "      <td>of</td>\n",
       "      <td>O</td>\n",
       "    </tr>\n",
       "    <tr>\n",
       "      <th>124998</th>\n",
       "      <td>rdbdw7</td>\n",
       "      <td>t5_2s1h9</td>\n",
       "      <td>7</td>\n",
       "      <td>the</td>\n",
       "      <td>O</td>\n",
       "    </tr>\n",
       "    <tr>\n",
       "      <th>124999</th>\n",
       "      <td>rdbdw7</td>\n",
       "      <td>t5_2s1h9</td>\n",
       "      <td>7</td>\n",
       "      <td>pandemic.</td>\n",
       "      <td>O</td>\n",
       "    </tr>\n",
       "  </tbody>\n",
       "</table>\n",
       "<p>104185 rows × 5 columns</p>\n",
       "</div>"
      ],
      "text/plain": [
       "       post_id subreddit_id  sentence_id      words labels\n",
       "0       s1jpia     t5_2s23e            3       When      O\n",
       "1       s1jpia     t5_2s23e            3          I      O\n",
       "2       s1jpia     t5_2s23e            3        was      O\n",
       "3       s1jpia     t5_2s23e            3        17,      O\n",
       "4       s1jpia     t5_2s23e            3         it      O\n",
       "...        ...          ...          ...        ...    ...\n",
       "124995  rdbdw7     t5_2s1h9            7        the      O\n",
       "124996  rdbdw7     t5_2s1h9            7  beginning      O\n",
       "124997  rdbdw7     t5_2s1h9            7         of      O\n",
       "124998  rdbdw7     t5_2s1h9            7        the      O\n",
       "124999  rdbdw7     t5_2s1h9            7  pandemic.      O\n",
       "\n",
       "[104185 rows x 5 columns]"
      ]
     },
     "execution_count": 24,
     "metadata": {},
     "output_type": "execute_result"
    }
   ],
   "source": [
    "fold3_val.loc[deberta_v3_f3_e3['labels'] == deberta_f3_e3['labels']]\n"
   ]
  },
  {
   "cell_type": "code",
   "execution_count": 25,
   "metadata": {},
   "outputs": [],
   "source": [
    "# fold 2 m1=robert m2=deberta\n",
    "m1c_m2c_v3 = fold2_val.loc[(fold2_val['labels'] == roberta_f2_e4[\"labels\"]) & (\n",
    "    fold2_val['labels'] == deberta_v3_f2_e4[\"labels\"])]\n",
    "m1c_m2w_v3 = fold2_val.loc[(fold2_val['labels'] == roberta_f2_e4['labels']) & (\n",
    "    fold2_val['labels'] != deberta_v3_f2_e4['labels'])]\n",
    "m1w_m2c_v3 = fold2_val.loc[(fold2_val['labels'] != roberta_f2_e4['labels']) & (\n",
    "    fold2_val['labels'] == deberta_v3_f2_e4['labels'])]\n",
    "m1w_m2w_v3 = fold2_val.loc[(fold2_val['labels'] != roberta_f2_e4['labels']) & (\n",
    "    fold2_val['labels'] != deberta_v3_f2_e4['labels'])]\n"
   ]
  },
  {
   "cell_type": "code",
   "execution_count": 26,
   "metadata": {},
   "outputs": [
    {
     "data": {
      "text/plain": [
       "(78444, 8977, 8115, 26969)"
      ]
     },
     "execution_count": 26,
     "metadata": {},
     "output_type": "execute_result"
    }
   ],
   "source": [
    "len(m1c_m2c_v3), len(m1c_m2w_v3), len(m1w_m2c_v3), len(m1w_m2w_v3)\n"
   ]
  },
  {
   "cell_type": "code",
   "execution_count": 27,
   "metadata": {},
   "outputs": [
    {
     "data": {
      "text/plain": [
       "(122505, 122505)"
      ]
     },
     "execution_count": 27,
     "metadata": {},
     "output_type": "execute_result"
    }
   ],
   "source": [
    "len(m1c_m2c_v3) + len(m1c_m2w_v3) + \\\n",
    "    len(m1w_m2c_v3) + len(m1w_m2w_v3), len(fold2_val)\n"
   ]
  },
  {
   "cell_type": "code",
   "execution_count": 28,
   "metadata": {},
   "outputs": [
    {
     "name": "stdout",
     "output_type": "stream",
     "text": [
      "chi-squared of fold3: 8115\n",
      "p-value of fold3: 4.4839734931690804e-11\n"
     ]
    }
   ],
   "source": [
    "import numpy as np\n",
    "from mlxtend.evaluate import mcnemar\n",
    "\n",
    "tb_fold2_v2 = np.array([[len(m1c_m2c_v3), len(m1c_m2w_v3)],\n",
    "                        [len(m1w_m2c_v3), len(m1w_m2w_v3)]])\n",
    "\n",
    "chi2_f3_v3, p_f3_v3 = mcnemar(ary=tb_fold2_v2, exact=True)\n",
    "\n",
    "print(f\"chi-squared of fold3: {chi2_f3_v3}\")\n",
    "print(f\"p-value of fold3: {p_f3_v3}\")\n"
   ]
  },
  {
   "cell_type": "code",
   "execution_count": 29,
   "metadata": {},
   "outputs": [],
   "source": [
    "m1c_m2c_f3_v3 = fold3_val.loc[(fold3_val['labels'] == roberta_f3_e4[\"labels\"]) & (\n",
    "    fold3_val['labels'] == deberta_v3_f3_e3[\"labels\"])]\n",
    "m1c_m2w_f3_v3 = fold3_val.loc[(fold3_val['labels'] == roberta_f3_e4['labels']) & (\n",
    "    fold3_val['labels'] != deberta_v3_f3_e3['labels'])]\n",
    "m1w_m2c_f3_v3 = fold3_val.loc[(fold3_val['labels'] != roberta_f3_e4['labels']) & (\n",
    "    fold3_val['labels'] == deberta_v3_f3_e3['labels'])]\n",
    "m1w_m2w_f3_v3 = fold3_val.loc[(fold3_val['labels'] != roberta_f3_e4['labels']) & (\n",
    "    fold3_val['labels'] != deberta_v3_f3_e3['labels'])]\n"
   ]
  },
  {
   "cell_type": "code",
   "execution_count": 30,
   "metadata": {},
   "outputs": [
    {
     "data": {
      "text/plain": [
       "(80604, 7060, 8006, 29330)"
      ]
     },
     "execution_count": 30,
     "metadata": {},
     "output_type": "execute_result"
    }
   ],
   "source": [
    "len(m1c_m2c_f3_v3), len(m1c_m2w_f3_v3), len(m1w_m2c_f3_v3), len(m1w_m2w_f3_v3)\n"
   ]
  },
  {
   "cell_type": "code",
   "execution_count": 31,
   "metadata": {},
   "outputs": [
    {
     "data": {
      "text/plain": [
       "(125000, 125000)"
      ]
     },
     "execution_count": 31,
     "metadata": {},
     "output_type": "execute_result"
    }
   ],
   "source": [
    "len(m1c_m2c_f3_v3) + len(m1c_m2w_f3_v3) + \\\n",
    "    len(m1w_m2c_f3_v3) + len(m1w_m2w_f3_v3), len(fold3_val)\n"
   ]
  },
  {
   "cell_type": "code",
   "execution_count": 34,
   "metadata": {},
   "outputs": [
    {
     "name": "stdout",
     "output_type": "stream",
     "text": [
      "       post_id subreddit_id  sentence_id         words    labels\n",
      "62      s1jpia     t5_2s23e           18          Even         O\n",
      "63      s1jpia     t5_2s23e           18         today         O\n",
      "64      s1jpia     t5_2s23e           18        almost         O\n",
      "65      s1jpia     t5_2s23e           18        twenty         O\n",
      "66      s1jpia     t5_2s23e           18         years         O\n",
      "...        ...          ...          ...           ...       ...\n",
      "124880  sivvy6     t5_2r876            6    considered  question\n",
      "124881  sivvy6     t5_2r876            6       working  question\n",
      "124882  sivvy6     t5_2r876            6            as  question\n",
      "124883  sivvy6     t5_2r876            6    measurable  question\n",
      "124884  sivvy6     t5_2r876            6  improvement.  question\n",
      "\n",
      "[29330 rows x 5 columns]\n",
      "               words   labels\n",
      "62              Even  per_exp\n",
      "63             today  per_exp\n",
      "64            almost  per_exp\n",
      "65            twenty  per_exp\n",
      "66             years  per_exp\n",
      "...              ...      ...\n",
      "124880    considered        O\n",
      "124881       working        O\n",
      "124882            as        O\n",
      "124883    measurable        O\n",
      "124884  improvement.        O\n",
      "\n",
      "[29330 rows x 2 columns]\n"
     ]
    },
    {
     "data": {
      "text/plain": [
       "(None, None)"
      ]
     },
     "execution_count": 34,
     "metadata": {},
     "output_type": "execute_result"
    }
   ],
   "source": [
    "print(m1w_m2w_f3_v3), print(roberta_f3_e4.loc[(fold3_val['labels'] != roberta_f3_e4['labels']) & (\n",
    "    fold3_val['labels'] != deberta_v3_f3_e3['labels'])])\n"
   ]
  },
  {
   "cell_type": "code",
   "execution_count": 32,
   "metadata": {},
   "outputs": [
    {
     "name": "stdout",
     "output_type": "stream",
     "text": [
      "[[80604  7060]\n",
      " [ 8006 29330]]\n",
      "chi-squared of fold3: 7060\n",
      "p-value of fold3: 1.3452170712337588e-14\n"
     ]
    }
   ],
   "source": [
    "import numpy as np\n",
    "from mlxtend.evaluate import mcnemar\n",
    "\n",
    "tb_fold3_v3 = np.array([[len(m1c_m2c_f3_v3), len(m1c_m2w_f3_v3)],\n",
    "                        [len(m1w_m2c_f3_v3), len(m1w_m2w_f3_v3)]])\n",
    "\n",
    "chi2_f3_v3_2, p_f3_v3_2 = mcnemar(ary=tb_fold3_v3, exact=True)\n",
    "print(tb_fold3_v3)\n",
    "print(f\"chi-squared of fold3: {chi2_f3_v3_2}\")\n",
    "print(f\"p-value of fold3: {p_f3_v3_2}\")\n"
   ]
  },
  {
   "cell_type": "markdown",
   "metadata": {},
   "source": [
    "# Calculating the p-value of deberta-large & roberta-large on data split in fold2 and fold3\n",
    "\n",
    "## model:\n",
    "\n",
    "m1: roberta-large  \n",
    "m2: deberta-large-v1\n",
    "\n",
    "- fold2 p-value: 8.427527424066525e-35\n",
    "- fold2 chi-square: 6957\n",
    "\n",
    "- fold3 p-value: 2.8251686573178394e-54\n",
    "- fold3 chi-square: 6998\n",
    "\n",
    "fold2 labels total: (122505) 在資料分割折數 2 時\n",
    "| | m2 correct | m2 wrong|\n",
    "|-----|-----|-----|\n",
    "| m1 correct| 80464| 6957 |\n",
    "| m1 wrong| 8486 | 26598|\n",
    "\n",
    "fold3 labels total: (125000) 在資料分割折數 3 時\n",
    "| | m2 correct | m2 wrong|\n",
    "|-----|-----|-----|\n",
    "| m1 correct| 78708| 8956 |\n",
    "| m1 wrong| 6998 | 30338|\n",
    "\n",
    "---\n",
    "\n",
    "# Calculating the p-value of deberta-large-v3 & roberta-large on data split in fold2 and fold3\n",
    "\n",
    "## model:\n",
    "\n",
    "m1: roberta-large  \n",
    " m2: deberta-large-v3\n",
    "\n",
    "- fold2 p-value: 4.4839734931690804e-11\n",
    "- fold2 chi-square: 8115\n",
    "\n",
    "- fold3 p-value: 1.3452170712337588e-14\n",
    "- fold3 chi-square: 7060\n",
    "\n",
    "fold2 labels total: (122505) 在資料分割折數 2 時\n",
    "\n",
    "|            | m2 correct | m2 wrong |\n",
    "| ---------- | ---------- | -------- |\n",
    "| m1 correct | 78444      | 8977     |\n",
    "| m1 wrong   | 8115       | 26969    |\n",
    "\n",
    "fold3 labels total: (125000) 在資料分割折數 3 時\n",
    "| | m2 correct | m2 wrong|\n",
    "|-----|-----|-----|\n",
    "| m1 correct| 80604| 7060 |\n",
    "| m1 wrong| 8006 | 29330|\n"
   ]
  },
  {
   "cell_type": "code",
   "execution_count": null,
   "metadata": {},
   "outputs": [],
   "source": []
  }
 ],
 "metadata": {
  "kernelspec": {
   "display_name": "Python 3.8.13 ('semeval')",
   "language": "python",
   "name": "python3"
  },
  "language_info": {
   "codemirror_mode": {
    "name": "ipython",
    "version": 3
   },
   "file_extension": ".py",
   "mimetype": "text/x-python",
   "name": "python",
   "nbconvert_exporter": "python",
   "pygments_lexer": "ipython3",
   "version": "3.8.13"
  },
  "orig_nbformat": 4,
  "vscode": {
   "interpreter": {
    "hash": "deb1e1f5cfae983ab505c9bae74ebb5d4a17f7d88f36424946c6ae8940adcde0"
   }
  }
 },
 "nbformat": 4,
 "nbformat_minor": 2
}
