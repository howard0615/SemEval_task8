{
 "cells": [
  {
   "cell_type": "markdown",
   "metadata": {},
   "source": [
    "# SemEval-2023 Task8 Causal Claims Identifications and PIO Frame Extraction\n",
    "[SemEval-2023 task8](https://causalclaims.github.io/)\n",
    "## Subtask 1: Causal claim indentification\n",
    "For the provided snippet of text, the first subtask aims to identify the span of text that is either a claim, experience, experience_based_claim or a question. These four categories can be defined as follow:\n",
    "* Claim: Commmunicates a causal interaction between an intervention and an outcome.\n",
    "* Experience: Relates a specific outcome/symptom to an intervention or population based on someone's experience.\n",
    "* Experience based claim: A claim based on someone's experince.\n",
    "* Question: Poses a question.\n"
   ]
  },
  {
   "cell_type": "markdown",
   "metadata": {},
   "source": []
  },
  {
   "cell_type": "markdown",
   "metadata": {},
   "source": [
    "# Preview Data"
   ]
  },
  {
   "cell_type": "markdown",
   "metadata": {},
   "source": [
    "data file type is csv\n"
   ]
  },
  {
   "cell_type": "code",
   "execution_count": 2,
   "metadata": {},
   "outputs": [],
   "source": [
    "# !pip install pandas"
   ]
  },
  {
   "cell_type": "code",
   "execution_count": 3,
   "metadata": {},
   "outputs": [],
   "source": [
    "import pandas as pd\n",
    "semeval_train_df = pd.read_csv(\"../st1_public_data/st1_train_inc_text.csv\")\n",
    "semeval_test_df = pd.read_csv(\"../st1_public_data/st1_test_inc_text.csv\")"
   ]
  },
  {
   "cell_type": "code",
   "execution_count": 4,
   "metadata": {},
   "outputs": [
    {
     "data": {
      "text/html": [
       "<div>\n",
       "<style scoped>\n",
       "    .dataframe tbody tr th:only-of-type {\n",
       "        vertical-align: middle;\n",
       "    }\n",
       "\n",
       "    .dataframe tbody tr th {\n",
       "        vertical-align: top;\n",
       "    }\n",
       "\n",
       "    .dataframe thead th {\n",
       "        text-align: right;\n",
       "    }\n",
       "</style>\n",
       "<table border=\"1\" class=\"dataframe\">\n",
       "  <thead>\n",
       "    <tr style=\"text-align: right;\">\n",
       "      <th></th>\n",
       "      <th>post_id</th>\n",
       "      <th>subreddit_id</th>\n",
       "      <th>stage1_labels</th>\n",
       "      <th>text</th>\n",
       "    </tr>\n",
       "  </thead>\n",
       "  <tbody>\n",
       "    <tr>\n",
       "      <th>0</th>\n",
       "      <td>s1jpia</td>\n",
       "      <td>t5_2s23e</td>\n",
       "      <td>[{\"crowd-entity-annotation\":{\"entities\":[{\"end...</td>\n",
       "      <td>De-Nial\\nI wrote this a few years ago and just...</td>\n",
       "    </tr>\n",
       "    <tr>\n",
       "      <th>1</th>\n",
       "      <td>re7owg</td>\n",
       "      <td>t5_2s1h9</td>\n",
       "      <td>[{\"crowd-entity-annotation\":{\"entities\":[{\"end...</td>\n",
       "      <td>Had a seizure for the first time in ten years\\...</td>\n",
       "    </tr>\n",
       "    <tr>\n",
       "      <th>2</th>\n",
       "      <td>r0nm2r</td>\n",
       "      <td>t5_2syer</td>\n",
       "      <td>[{\"crowd-entity-annotation\":{\"entities\":[{\"end...</td>\n",
       "      <td>How long does it take to drop UA through diet/...</td>\n",
       "    </tr>\n",
       "    <tr>\n",
       "      <th>3</th>\n",
       "      <td>qmkuzj</td>\n",
       "      <td>t5_2rtve</td>\n",
       "      <td>[{\"crowd-entity-annotation\":{\"entities\":[{\"end...</td>\n",
       "      <td>Im wondering what is the average age yall were...</td>\n",
       "    </tr>\n",
       "    <tr>\n",
       "      <th>4</th>\n",
       "      <td>sn5sqd</td>\n",
       "      <td>t5_2s3g1</td>\n",
       "      <td>[{\"crowd-entity-annotation\":{\"entities\":[{\"end...</td>\n",
       "      <td>Has anyone taken amitriptyline and found it to...</td>\n",
       "    </tr>\n",
       "  </tbody>\n",
       "</table>\n",
       "</div>"
      ],
      "text/plain": [
       "  post_id subreddit_id                                      stage1_labels  \\\n",
       "0  s1jpia     t5_2s23e  [{\"crowd-entity-annotation\":{\"entities\":[{\"end...   \n",
       "1  re7owg     t5_2s1h9  [{\"crowd-entity-annotation\":{\"entities\":[{\"end...   \n",
       "2  r0nm2r     t5_2syer  [{\"crowd-entity-annotation\":{\"entities\":[{\"end...   \n",
       "3  qmkuzj     t5_2rtve  [{\"crowd-entity-annotation\":{\"entities\":[{\"end...   \n",
       "4  sn5sqd     t5_2s3g1  [{\"crowd-entity-annotation\":{\"entities\":[{\"end...   \n",
       "\n",
       "                                                text  \n",
       "0  De-Nial\\nI wrote this a few years ago and just...  \n",
       "1  Had a seizure for the first time in ten years\\...  \n",
       "2  How long does it take to drop UA through diet/...  \n",
       "3  Im wondering what is the average age yall were...  \n",
       "4  Has anyone taken amitriptyline and found it to...  "
      ]
     },
     "execution_count": 4,
     "metadata": {},
     "output_type": "execute_result"
    }
   ],
   "source": [
    "semeval_train_df.head()"
   ]
  },
  {
   "cell_type": "code",
   "execution_count": 5,
   "metadata": {},
   "outputs": [
    {
     "data": {
      "text/html": [
       "<div>\n",
       "<style scoped>\n",
       "    .dataframe tbody tr th:only-of-type {\n",
       "        vertical-align: middle;\n",
       "    }\n",
       "\n",
       "    .dataframe tbody tr th {\n",
       "        vertical-align: top;\n",
       "    }\n",
       "\n",
       "    .dataframe thead th {\n",
       "        text-align: right;\n",
       "    }\n",
       "</style>\n",
       "<table border=\"1\" class=\"dataframe\">\n",
       "  <thead>\n",
       "    <tr style=\"text-align: right;\">\n",
       "      <th></th>\n",
       "      <th>post_id</th>\n",
       "      <th>subreddit_id</th>\n",
       "      <th>stage1_labels</th>\n",
       "      <th>text</th>\n",
       "    </tr>\n",
       "  </thead>\n",
       "  <tbody>\n",
       "    <tr>\n",
       "      <th>5690</th>\n",
       "      <td>sypylg</td>\n",
       "      <td>t5_2saq9</td>\n",
       "      <td>[{\"crowd-entity-annotation\":{\"entities\":[{\"end...</td>\n",
       "      <td>CPR Training Concerns\\nI have to do CPR traini...</td>\n",
       "    </tr>\n",
       "    <tr>\n",
       "      <th>5691</th>\n",
       "      <td>sivvy6</td>\n",
       "      <td>t5_2r876</td>\n",
       "      <td>[{\"crowd-entity-annotation\":{\"entities\":[{\"end...</td>\n",
       "      <td>Has anyone in the US started going back to wor...</td>\n",
       "    </tr>\n",
       "    <tr>\n",
       "      <th>5692</th>\n",
       "      <td>s6z4ik</td>\n",
       "      <td>t5_2s23e</td>\n",
       "      <td>[{\"crowd-entity-annotation\":{\"entities\":[{\"end...</td>\n",
       "      <td>What is your strategy when you have relapse of...</td>\n",
       "    </tr>\n",
       "    <tr>\n",
       "      <th>5693</th>\n",
       "      <td>rdbdw7</td>\n",
       "      <td>t5_2s1h9</td>\n",
       "      <td>[{\"crowd-entity-annotation\":{\"entities\":[]}}]</td>\n",
       "      <td>Curious about other people's experience in the...</td>\n",
       "    </tr>\n",
       "    <tr>\n",
       "      <th>5694</th>\n",
       "      <td>ri83g1</td>\n",
       "      <td>t5_2r876</td>\n",
       "      <td>[{\"crowd-entity-annotation\":{\"entities\":[{\"end...</td>\n",
       "      <td>How effective are the gene modulators in treat...</td>\n",
       "    </tr>\n",
       "  </tbody>\n",
       "</table>\n",
       "</div>"
      ],
      "text/plain": [
       "     post_id subreddit_id                                      stage1_labels  \\\n",
       "5690  sypylg     t5_2saq9  [{\"crowd-entity-annotation\":{\"entities\":[{\"end...   \n",
       "5691  sivvy6     t5_2r876  [{\"crowd-entity-annotation\":{\"entities\":[{\"end...   \n",
       "5692  s6z4ik     t5_2s23e  [{\"crowd-entity-annotation\":{\"entities\":[{\"end...   \n",
       "5693  rdbdw7     t5_2s1h9      [{\"crowd-entity-annotation\":{\"entities\":[]}}]   \n",
       "5694  ri83g1     t5_2r876  [{\"crowd-entity-annotation\":{\"entities\":[{\"end...   \n",
       "\n",
       "                                                   text  \n",
       "5690  CPR Training Concerns\\nI have to do CPR traini...  \n",
       "5691  Has anyone in the US started going back to wor...  \n",
       "5692  What is your strategy when you have relapse of...  \n",
       "5693  Curious about other people's experience in the...  \n",
       "5694  How effective are the gene modulators in treat...  "
      ]
     },
     "execution_count": 5,
     "metadata": {},
     "output_type": "execute_result"
    }
   ],
   "source": [
    "semeval_train_df.tail()"
   ]
  },
  {
   "cell_type": "code",
   "execution_count": 6,
   "metadata": {},
   "outputs": [
    {
     "data": {
      "text/plain": [
       "post_id          object\n",
       "subreddit_id     object\n",
       "stage1_labels    object\n",
       "text             object\n",
       "dtype: object"
      ]
     },
     "execution_count": 6,
     "metadata": {},
     "output_type": "execute_result"
    }
   ],
   "source": [
    "semeval_train_df.dtypes"
   ]
  },
  {
   "cell_type": "code",
   "execution_count": 7,
   "metadata": {},
   "outputs": [
    {
     "data": {
      "text/html": [
       "<div>\n",
       "<style scoped>\n",
       "    .dataframe tbody tr th:only-of-type {\n",
       "        vertical-align: middle;\n",
       "    }\n",
       "\n",
       "    .dataframe tbody tr th {\n",
       "        vertical-align: top;\n",
       "    }\n",
       "\n",
       "    .dataframe thead th {\n",
       "        text-align: right;\n",
       "    }\n",
       "</style>\n",
       "<table border=\"1\" class=\"dataframe\">\n",
       "  <thead>\n",
       "    <tr style=\"text-align: right;\">\n",
       "      <th></th>\n",
       "      <th>post_id</th>\n",
       "      <th>subreddit_id</th>\n",
       "      <th>stage1_labels</th>\n",
       "      <th>text</th>\n",
       "    </tr>\n",
       "  </thead>\n",
       "  <tbody>\n",
       "    <tr>\n",
       "      <th>count</th>\n",
       "      <td>5695</td>\n",
       "      <td>5695</td>\n",
       "      <td>5695</td>\n",
       "      <td>5695</td>\n",
       "    </tr>\n",
       "    <tr>\n",
       "      <th>unique</th>\n",
       "      <td>5695</td>\n",
       "      <td>9</td>\n",
       "      <td>4911</td>\n",
       "      <td>5270</td>\n",
       "    </tr>\n",
       "    <tr>\n",
       "      <th>top</th>\n",
       "      <td>s1jpia</td>\n",
       "      <td>t5_2s3g1</td>\n",
       "      <td>[{\"crowd-entity-annotation\":{\"entities\":[]}}]</td>\n",
       "      <td>[deleted by user]\\n[removed]</td>\n",
       "    </tr>\n",
       "    <tr>\n",
       "      <th>freq</th>\n",
       "      <td>1</td>\n",
       "      <td>724</td>\n",
       "      <td>557</td>\n",
       "      <td>363</td>\n",
       "    </tr>\n",
       "  </tbody>\n",
       "</table>\n",
       "</div>"
      ],
      "text/plain": [
       "       post_id subreddit_id                                  stage1_labels  \\\n",
       "count     5695         5695                                           5695   \n",
       "unique    5695            9                                           4911   \n",
       "top     s1jpia     t5_2s3g1  [{\"crowd-entity-annotation\":{\"entities\":[]}}]   \n",
       "freq         1          724                                            557   \n",
       "\n",
       "                                text  \n",
       "count                           5695  \n",
       "unique                          5270  \n",
       "top     [deleted by user]\\n[removed]  \n",
       "freq                             363  "
      ]
     },
     "execution_count": 7,
     "metadata": {},
     "output_type": "execute_result"
    }
   ],
   "source": [
    "semeval_train_df.describe()"
   ]
  },
  {
   "cell_type": "markdown",
   "metadata": {},
   "source": [
    "## Columns of the dataframe\n",
    "* post_id, subreddit_id: the ids the get the reddit post\n",
    "* stage1_labels: labels contain Causal Claims which we need to identification\n",
    "    - label: the label discribe snippet [\"per_exp\", \"claim\", \"claim_per_exp\", \"question\"]\n",
    "    - startOffset: start index of the label\n",
    "    - endOffset: end index of the label\n",
    "* text: reddit post text\n"
   ]
  },
  {
   "cell_type": "code",
   "execution_count": 8,
   "metadata": {},
   "outputs": [
    {
     "data": {
      "text/plain": [
       "Index(['post_id', 'subreddit_id', 'stage1_labels', 'text'], dtype='object')"
      ]
     },
     "execution_count": 8,
     "metadata": {},
     "output_type": "execute_result"
    }
   ],
   "source": [
    "semeval_train_df.columns"
   ]
  },
  {
   "cell_type": "code",
   "execution_count": 9,
   "metadata": {},
   "outputs": [
    {
     "data": {
      "text/plain": [
       "'[{\"crowd-entity-annotation\":{\"entities\":[{\"endOffset\":858,\"label\":\"per_exp\",\"startOffset\":661},{\"endOffset\":2213,\"label\":\"per_exp\",\"startOffset\":1861},{\"endOffset\":2407,\"label\":\"per_exp\",\"startOffset\":2255},{\"endOffset\":3254,\"label\":\"claim_per_exp\",\"startOffset\":2697},{\"endOffset\":3620,\"label\":\"claim_per_exp\",\"startOffset\":3294},{\"endOffset\":3751,\"label\":\"claim_per_exp\",\"startOffset\":3621},{\"endOffset\":4480,\"label\":\"per_exp\",\"startOffset\":3752},{\"endOffset\":4759,\"label\":\"question\",\"startOffset\":4482}]}}]'"
      ]
     },
     "execution_count": 9,
     "metadata": {},
     "output_type": "execute_result"
    }
   ],
   "source": [
    "semeval_train_df[\"stage1_labels\"][0]"
   ]
  },
  {
   "cell_type": "code",
   "execution_count": 10,
   "metadata": {},
   "outputs": [
    {
     "data": {
      "text/plain": [
       "str"
      ]
     },
     "execution_count": 10,
     "metadata": {},
     "output_type": "execute_result"
    }
   ],
   "source": [
    "type(semeval_train_df[\"stage1_labels\"][0])"
   ]
  },
  {
   "cell_type": "markdown",
   "metadata": {},
   "source": [
    "# Semval task 8 Dataset details\n",
    "\n",
    "details from semeval\n",
    "```\n",
    "We are currently providing a sample dataset and will be releasing the full training data soon. Our dataset is built from Reddit posts and to respect the users' privacy we are not releasing the dataset directly. Instead, we are only providing Reddit post ids, annotations, and a script. Participants can use the script to obtain the data and merge it with the provided annotations. If users choose to delete their post, the script won't be able to get it.\n",
    "```\n"
   ]
  },
  {
   "cell_type": "code",
   "execution_count": 11,
   "metadata": {},
   "outputs": [
    {
     "data": {
      "text/plain": [
       "post_id                                                     saxv8t\n",
       "subreddit_id                                              t5_2tyg2\n",
       "stage1_labels    [{\"crowd-entity-annotation\":{\"entities\":[{\"end...\n",
       "text                                  [deleted by user]\\n[removed]\n",
       "Name: 8, dtype: object"
      ]
     },
     "execution_count": 11,
     "metadata": {},
     "output_type": "execute_result"
    }
   ],
   "source": [
    "semeval_train_df.loc[8]"
   ]
  },
  {
   "cell_type": "markdown",
   "metadata": {},
   "source": [
    "### We can see some of the text of the reddit post were deleted by user. We were not able to get those text"
   ]
  },
  {
   "cell_type": "markdown",
   "metadata": {},
   "source": [
    "### train\n",
    "\n",
    "---\n",
    "train post total numbers : 5695  \n",
    "train post which deleted by user numbers : 678\n",
    "\n",
    "---"
   ]
  },
  {
   "cell_type": "code",
   "execution_count": 12,
   "metadata": {},
   "outputs": [],
   "source": [
    "semeval_train_del_df = semeval_train_df.loc[semeval_train_df[\"text\"].str.contains(\"deleted\")]"
   ]
  },
  {
   "cell_type": "code",
   "execution_count": 13,
   "metadata": {},
   "outputs": [
    {
     "data": {
      "text/plain": [
       "(678, 5695)"
      ]
     },
     "execution_count": 13,
     "metadata": {},
     "output_type": "execute_result"
    }
   ],
   "source": [
    "len(semeval_train_del_df), len(semeval_train_df)"
   ]
  },
  {
   "cell_type": "code",
   "execution_count": 14,
   "metadata": {},
   "outputs": [
    {
     "data": {
      "text/html": [
       "<div>\n",
       "<style scoped>\n",
       "    .dataframe tbody tr th:only-of-type {\n",
       "        vertical-align: middle;\n",
       "    }\n",
       "\n",
       "    .dataframe tbody tr th {\n",
       "        vertical-align: top;\n",
       "    }\n",
       "\n",
       "    .dataframe thead th {\n",
       "        text-align: right;\n",
       "    }\n",
       "</style>\n",
       "<table border=\"1\" class=\"dataframe\">\n",
       "  <thead>\n",
       "    <tr style=\"text-align: right;\">\n",
       "      <th></th>\n",
       "      <th>post_id</th>\n",
       "      <th>subreddit_id</th>\n",
       "      <th>stage1_labels</th>\n",
       "      <th>text</th>\n",
       "    </tr>\n",
       "  </thead>\n",
       "  <tbody>\n",
       "    <tr>\n",
       "      <th>8</th>\n",
       "      <td>saxv8t</td>\n",
       "      <td>t5_2tyg2</td>\n",
       "      <td>[{\"crowd-entity-annotation\":{\"entities\":[{\"end...</td>\n",
       "      <td>[deleted by user]\\n[removed]</td>\n",
       "    </tr>\n",
       "    <tr>\n",
       "      <th>21</th>\n",
       "      <td>sv4jgm</td>\n",
       "      <td>t5_2syer</td>\n",
       "      <td>[{\"crowd-entity-annotation\":{\"entities\":[{\"end...</td>\n",
       "      <td>[deleted by user]\\n[removed]</td>\n",
       "    </tr>\n",
       "    <tr>\n",
       "      <th>25</th>\n",
       "      <td>sm7law</td>\n",
       "      <td>t5_2s3g1</td>\n",
       "      <td>[{\"crowd-entity-annotation\":{\"entities\":[{\"end...</td>\n",
       "      <td>[deleted by user]\\n[removed]</td>\n",
       "    </tr>\n",
       "    <tr>\n",
       "      <th>27</th>\n",
       "      <td>sofbm3</td>\n",
       "      <td>t5_2s3g1</td>\n",
       "      <td>[{\"crowd-entity-annotation\":{\"entities\":[{\"end...</td>\n",
       "      <td>[deleted by user]\\n[removed]</td>\n",
       "    </tr>\n",
       "    <tr>\n",
       "      <th>34</th>\n",
       "      <td>regj97</td>\n",
       "      <td>t5_2rtve</td>\n",
       "      <td>[{\"crowd-entity-annotation\":{\"entities\":[{\"end...</td>\n",
       "      <td>[deleted by user]\\n[removed]</td>\n",
       "    </tr>\n",
       "  </tbody>\n",
       "</table>\n",
       "</div>"
      ],
      "text/plain": [
       "   post_id subreddit_id                                      stage1_labels  \\\n",
       "8   saxv8t     t5_2tyg2  [{\"crowd-entity-annotation\":{\"entities\":[{\"end...   \n",
       "21  sv4jgm     t5_2syer  [{\"crowd-entity-annotation\":{\"entities\":[{\"end...   \n",
       "25  sm7law     t5_2s3g1  [{\"crowd-entity-annotation\":{\"entities\":[{\"end...   \n",
       "27  sofbm3     t5_2s3g1  [{\"crowd-entity-annotation\":{\"entities\":[{\"end...   \n",
       "34  regj97     t5_2rtve  [{\"crowd-entity-annotation\":{\"entities\":[{\"end...   \n",
       "\n",
       "                            text  \n",
       "8   [deleted by user]\\n[removed]  \n",
       "21  [deleted by user]\\n[removed]  \n",
       "25  [deleted by user]\\n[removed]  \n",
       "27  [deleted by user]\\n[removed]  \n",
       "34  [deleted by user]\\n[removed]  "
      ]
     },
     "execution_count": 14,
     "metadata": {},
     "output_type": "execute_result"
    }
   ],
   "source": [
    "semeval_train_del_df.head()"
   ]
  },
  {
   "cell_type": "code",
   "execution_count": 15,
   "metadata": {},
   "outputs": [],
   "source": [
    "semeval_train_rm_del_df = pd.merge(semeval_train_df, semeval_train_del_df, indicator=True, how=\"outer\").query('_merge==\"left_only\"').drop('_merge', axis=1)"
   ]
  },
  {
   "cell_type": "code",
   "execution_count": 16,
   "metadata": {},
   "outputs": [
    {
     "data": {
      "text/html": [
       "<div>\n",
       "<style scoped>\n",
       "    .dataframe tbody tr th:only-of-type {\n",
       "        vertical-align: middle;\n",
       "    }\n",
       "\n",
       "    .dataframe tbody tr th {\n",
       "        vertical-align: top;\n",
       "    }\n",
       "\n",
       "    .dataframe thead th {\n",
       "        text-align: right;\n",
       "    }\n",
       "</style>\n",
       "<table border=\"1\" class=\"dataframe\">\n",
       "  <thead>\n",
       "    <tr style=\"text-align: right;\">\n",
       "      <th></th>\n",
       "      <th>post_id</th>\n",
       "      <th>subreddit_id</th>\n",
       "      <th>stage1_labels</th>\n",
       "      <th>text</th>\n",
       "    </tr>\n",
       "  </thead>\n",
       "  <tbody>\n",
       "    <tr>\n",
       "      <th>0</th>\n",
       "      <td>s1jpia</td>\n",
       "      <td>t5_2s23e</td>\n",
       "      <td>[{\"crowd-entity-annotation\":{\"entities\":[{\"end...</td>\n",
       "      <td>De-Nial\\nI wrote this a few years ago and just...</td>\n",
       "    </tr>\n",
       "    <tr>\n",
       "      <th>1</th>\n",
       "      <td>re7owg</td>\n",
       "      <td>t5_2s1h9</td>\n",
       "      <td>[{\"crowd-entity-annotation\":{\"entities\":[{\"end...</td>\n",
       "      <td>Had a seizure for the first time in ten years\\...</td>\n",
       "    </tr>\n",
       "    <tr>\n",
       "      <th>2</th>\n",
       "      <td>r0nm2r</td>\n",
       "      <td>t5_2syer</td>\n",
       "      <td>[{\"crowd-entity-annotation\":{\"entities\":[{\"end...</td>\n",
       "      <td>How long does it take to drop UA through diet/...</td>\n",
       "    </tr>\n",
       "    <tr>\n",
       "      <th>3</th>\n",
       "      <td>qmkuzj</td>\n",
       "      <td>t5_2rtve</td>\n",
       "      <td>[{\"crowd-entity-annotation\":{\"entities\":[{\"end...</td>\n",
       "      <td>Im wondering what is the average age yall were...</td>\n",
       "    </tr>\n",
       "    <tr>\n",
       "      <th>4</th>\n",
       "      <td>sn5sqd</td>\n",
       "      <td>t5_2s3g1</td>\n",
       "      <td>[{\"crowd-entity-annotation\":{\"entities\":[{\"end...</td>\n",
       "      <td>Has anyone taken amitriptyline and found it to...</td>\n",
       "    </tr>\n",
       "    <tr>\n",
       "      <th>...</th>\n",
       "      <td>...</td>\n",
       "      <td>...</td>\n",
       "      <td>...</td>\n",
       "      <td>...</td>\n",
       "    </tr>\n",
       "    <tr>\n",
       "      <th>5689</th>\n",
       "      <td>st6mwp</td>\n",
       "      <td>t5_2s3g1</td>\n",
       "      <td>[{\"crowd-entity-annotation\":{\"entities\":[{\"end...</td>\n",
       "      <td>who else cant go 48 hrs without diarrhea??\\nev...</td>\n",
       "    </tr>\n",
       "    <tr>\n",
       "      <th>5690</th>\n",
       "      <td>sypylg</td>\n",
       "      <td>t5_2saq9</td>\n",
       "      <td>[{\"crowd-entity-annotation\":{\"entities\":[{\"end...</td>\n",
       "      <td>CPR Training Concerns\\nI have to do CPR traini...</td>\n",
       "    </tr>\n",
       "    <tr>\n",
       "      <th>5691</th>\n",
       "      <td>sivvy6</td>\n",
       "      <td>t5_2r876</td>\n",
       "      <td>[{\"crowd-entity-annotation\":{\"entities\":[{\"end...</td>\n",
       "      <td>Has anyone in the US started going back to wor...</td>\n",
       "    </tr>\n",
       "    <tr>\n",
       "      <th>5693</th>\n",
       "      <td>rdbdw7</td>\n",
       "      <td>t5_2s1h9</td>\n",
       "      <td>[{\"crowd-entity-annotation\":{\"entities\":[]}}]</td>\n",
       "      <td>Curious about other people's experience in the...</td>\n",
       "    </tr>\n",
       "    <tr>\n",
       "      <th>5694</th>\n",
       "      <td>ri83g1</td>\n",
       "      <td>t5_2r876</td>\n",
       "      <td>[{\"crowd-entity-annotation\":{\"entities\":[{\"end...</td>\n",
       "      <td>How effective are the gene modulators in treat...</td>\n",
       "    </tr>\n",
       "  </tbody>\n",
       "</table>\n",
       "<p>5017 rows × 4 columns</p>\n",
       "</div>"
      ],
      "text/plain": [
       "     post_id subreddit_id                                      stage1_labels  \\\n",
       "0     s1jpia     t5_2s23e  [{\"crowd-entity-annotation\":{\"entities\":[{\"end...   \n",
       "1     re7owg     t5_2s1h9  [{\"crowd-entity-annotation\":{\"entities\":[{\"end...   \n",
       "2     r0nm2r     t5_2syer  [{\"crowd-entity-annotation\":{\"entities\":[{\"end...   \n",
       "3     qmkuzj     t5_2rtve  [{\"crowd-entity-annotation\":{\"entities\":[{\"end...   \n",
       "4     sn5sqd     t5_2s3g1  [{\"crowd-entity-annotation\":{\"entities\":[{\"end...   \n",
       "...      ...          ...                                                ...   \n",
       "5689  st6mwp     t5_2s3g1  [{\"crowd-entity-annotation\":{\"entities\":[{\"end...   \n",
       "5690  sypylg     t5_2saq9  [{\"crowd-entity-annotation\":{\"entities\":[{\"end...   \n",
       "5691  sivvy6     t5_2r876  [{\"crowd-entity-annotation\":{\"entities\":[{\"end...   \n",
       "5693  rdbdw7     t5_2s1h9      [{\"crowd-entity-annotation\":{\"entities\":[]}}]   \n",
       "5694  ri83g1     t5_2r876  [{\"crowd-entity-annotation\":{\"entities\":[{\"end...   \n",
       "\n",
       "                                                   text  \n",
       "0     De-Nial\\nI wrote this a few years ago and just...  \n",
       "1     Had a seizure for the first time in ten years\\...  \n",
       "2     How long does it take to drop UA through diet/...  \n",
       "3     Im wondering what is the average age yall were...  \n",
       "4     Has anyone taken amitriptyline and found it to...  \n",
       "...                                                 ...  \n",
       "5689  who else cant go 48 hrs without diarrhea??\\nev...  \n",
       "5690  CPR Training Concerns\\nI have to do CPR traini...  \n",
       "5691  Has anyone in the US started going back to wor...  \n",
       "5693  Curious about other people's experience in the...  \n",
       "5694  How effective are the gene modulators in treat...  \n",
       "\n",
       "[5017 rows x 4 columns]"
      ]
     },
     "execution_count": 16,
     "metadata": {},
     "output_type": "execute_result"
    }
   ],
   "source": [
    "semeval_train_rm_del_df"
   ]
  },
  {
   "cell_type": "markdown",
   "metadata": {},
   "source": [
    "### test\n",
    "---\n",
    "test post total numbers : 1424   \n",
    "test post which deleted by user numbers : 160  \n",
    "\n",
    "---"
   ]
  },
  {
   "cell_type": "code",
   "execution_count": 17,
   "metadata": {},
   "outputs": [],
   "source": [
    "semeval_test_del_df = semeval_test_df.loc[semeval_test_df[\"text\"].str.contains(\"deleted\")]"
   ]
  },
  {
   "cell_type": "code",
   "execution_count": 18,
   "metadata": {},
   "outputs": [
    {
     "data": {
      "text/plain": [
       "(160, 1424)"
      ]
     },
     "execution_count": 18,
     "metadata": {},
     "output_type": "execute_result"
    }
   ],
   "source": [
    "len(semeval_test_del_df), len(semeval_test_df)"
   ]
  },
  {
   "cell_type": "code",
   "execution_count": 19,
   "metadata": {},
   "outputs": [
    {
     "data": {
      "text/html": [
       "<div>\n",
       "<style scoped>\n",
       "    .dataframe tbody tr th:only-of-type {\n",
       "        vertical-align: middle;\n",
       "    }\n",
       "\n",
       "    .dataframe tbody tr th {\n",
       "        vertical-align: top;\n",
       "    }\n",
       "\n",
       "    .dataframe thead th {\n",
       "        text-align: right;\n",
       "    }\n",
       "</style>\n",
       "<table border=\"1\" class=\"dataframe\">\n",
       "  <thead>\n",
       "    <tr style=\"text-align: right;\">\n",
       "      <th></th>\n",
       "      <th>post_id</th>\n",
       "      <th>subreddit_id</th>\n",
       "      <th>text</th>\n",
       "    </tr>\n",
       "  </thead>\n",
       "  <tbody>\n",
       "    <tr>\n",
       "      <th>6</th>\n",
       "      <td>s5lfpx</td>\n",
       "      <td>t5_2r876</td>\n",
       "      <td>[deleted by user]\\n[removed]</td>\n",
       "    </tr>\n",
       "    <tr>\n",
       "      <th>51</th>\n",
       "      <td>swux97</td>\n",
       "      <td>t5_2s3g1</td>\n",
       "      <td>Losing weight, unable to eat, WHAT DO I DO\\n[d...</td>\n",
       "    </tr>\n",
       "    <tr>\n",
       "      <th>54</th>\n",
       "      <td>so7958</td>\n",
       "      <td>t5_2s3g1</td>\n",
       "      <td>Is not going for a day or two and then going a...</td>\n",
       "    </tr>\n",
       "    <tr>\n",
       "      <th>69</th>\n",
       "      <td>sfyi1a</td>\n",
       "      <td>t5_2tyg2</td>\n",
       "      <td>hm.\\n[deleted]</td>\n",
       "    </tr>\n",
       "    <tr>\n",
       "      <th>106</th>\n",
       "      <td>qng86f</td>\n",
       "      <td>t5_2rtve</td>\n",
       "      <td>masks and face shields usage\\n[deleted]</td>\n",
       "    </tr>\n",
       "  </tbody>\n",
       "</table>\n",
       "</div>"
      ],
      "text/plain": [
       "    post_id subreddit_id                                               text\n",
       "6    s5lfpx     t5_2r876                       [deleted by user]\\n[removed]\n",
       "51   swux97     t5_2s3g1  Losing weight, unable to eat, WHAT DO I DO\\n[d...\n",
       "54   so7958     t5_2s3g1  Is not going for a day or two and then going a...\n",
       "69   sfyi1a     t5_2tyg2                                     hm.\\n[deleted]\n",
       "106  qng86f     t5_2rtve            masks and face shields usage\\n[deleted]"
      ]
     },
     "execution_count": 19,
     "metadata": {},
     "output_type": "execute_result"
    }
   ],
   "source": [
    "semeval_test_del_df.head()"
   ]
  },
  {
   "cell_type": "code",
   "execution_count": 20,
   "metadata": {},
   "outputs": [],
   "source": [
    "semeval_test_rm_del_df = pd.merge(semeval_test_df, semeval_test_del_df, indicator=True, how=\"outer\").query('_merge==\"left_only\"').drop('_merge', axis=1)"
   ]
  },
  {
   "cell_type": "code",
   "execution_count": 21,
   "metadata": {},
   "outputs": [
    {
     "data": {
      "text/html": [
       "<div>\n",
       "<style scoped>\n",
       "    .dataframe tbody tr th:only-of-type {\n",
       "        vertical-align: middle;\n",
       "    }\n",
       "\n",
       "    .dataframe tbody tr th {\n",
       "        vertical-align: top;\n",
       "    }\n",
       "\n",
       "    .dataframe thead th {\n",
       "        text-align: right;\n",
       "    }\n",
       "</style>\n",
       "<table border=\"1\" class=\"dataframe\">\n",
       "  <thead>\n",
       "    <tr style=\"text-align: right;\">\n",
       "      <th></th>\n",
       "      <th>post_id</th>\n",
       "      <th>subreddit_id</th>\n",
       "      <th>text</th>\n",
       "    </tr>\n",
       "  </thead>\n",
       "  <tbody>\n",
       "    <tr>\n",
       "      <th>0</th>\n",
       "      <td>pwns5j</td>\n",
       "      <td>t5_2r876</td>\n",
       "      <td>Speeding fine\\nI know this could be my anxiety...</td>\n",
       "    </tr>\n",
       "    <tr>\n",
       "      <th>1</th>\n",
       "      <td>rm5t18</td>\n",
       "      <td>t5_2qlaa</td>\n",
       "      <td>Food Recipe Wednesday\\n**This is your** r/GERD...</td>\n",
       "    </tr>\n",
       "    <tr>\n",
       "      <th>2</th>\n",
       "      <td>paw773</td>\n",
       "      <td>t5_2syer</td>\n",
       "      <td>Trigger Foods &amp; Diet\\nUnderstanding medication...</td>\n",
       "    </tr>\n",
       "    <tr>\n",
       "      <th>3</th>\n",
       "      <td>sk2zb2</td>\n",
       "      <td>t5_2s3g1</td>\n",
       "      <td>Any quick relief remedies for the stomach cram...</td>\n",
       "    </tr>\n",
       "    <tr>\n",
       "      <th>4</th>\n",
       "      <td>scofpi</td>\n",
       "      <td>t5_2saq9</td>\n",
       "      <td>Canker sores\\nAnyone else get them often ? And...</td>\n",
       "    </tr>\n",
       "    <tr>\n",
       "      <th>...</th>\n",
       "      <td>...</td>\n",
       "      <td>...</td>\n",
       "      <td>...</td>\n",
       "    </tr>\n",
       "    <tr>\n",
       "      <th>1419</th>\n",
       "      <td>rn4kqy</td>\n",
       "      <td>t5_2rtve</td>\n",
       "      <td>Is there someone whose job it is to help peopl...</td>\n",
       "    </tr>\n",
       "    <tr>\n",
       "      <th>1420</th>\n",
       "      <td>swwjjc</td>\n",
       "      <td>t5_2s3g1</td>\n",
       "      <td>Something different is happening..\\nI've had I...</td>\n",
       "    </tr>\n",
       "    <tr>\n",
       "      <th>1421</th>\n",
       "      <td>p9c2hv</td>\n",
       "      <td>t5_2syer</td>\n",
       "      <td>First 2 weeks on allopurinol\\nHi guys. Im a 26...</td>\n",
       "    </tr>\n",
       "    <tr>\n",
       "      <th>1422</th>\n",
       "      <td>ripncf</td>\n",
       "      <td>t5_2s1h9</td>\n",
       "      <td>Seizure After Booster\\nNot saying the booster ...</td>\n",
       "    </tr>\n",
       "    <tr>\n",
       "      <th>1423</th>\n",
       "      <td>rntijr</td>\n",
       "      <td>t5_2qlaa</td>\n",
       "      <td>Why does chewing my food slowly get rid of ger...</td>\n",
       "    </tr>\n",
       "  </tbody>\n",
       "</table>\n",
       "<p>1264 rows × 3 columns</p>\n",
       "</div>"
      ],
      "text/plain": [
       "     post_id subreddit_id                                               text\n",
       "0     pwns5j     t5_2r876  Speeding fine\\nI know this could be my anxiety...\n",
       "1     rm5t18     t5_2qlaa  Food Recipe Wednesday\\n**This is your** r/GERD...\n",
       "2     paw773     t5_2syer  Trigger Foods & Diet\\nUnderstanding medication...\n",
       "3     sk2zb2     t5_2s3g1  Any quick relief remedies for the stomach cram...\n",
       "4     scofpi     t5_2saq9  Canker sores\\nAnyone else get them often ? And...\n",
       "...      ...          ...                                                ...\n",
       "1419  rn4kqy     t5_2rtve  Is there someone whose job it is to help peopl...\n",
       "1420  swwjjc     t5_2s3g1  Something different is happening..\\nI've had I...\n",
       "1421  p9c2hv     t5_2syer  First 2 weeks on allopurinol\\nHi guys. Im a 26...\n",
       "1422  ripncf     t5_2s1h9  Seizure After Booster\\nNot saying the booster ...\n",
       "1423  rntijr     t5_2qlaa  Why does chewing my food slowly get rid of ger...\n",
       "\n",
       "[1264 rows x 3 columns]"
      ]
     },
     "execution_count": 21,
     "metadata": {},
     "output_type": "execute_result"
    }
   ],
   "source": [
    "semeval_test_rm_del_df"
   ]
  },
  {
   "cell_type": "markdown",
   "metadata": {},
   "source": [
    "## change stage1_labels type from str to list"
   ]
  },
  {
   "cell_type": "markdown",
   "metadata": {},
   "source": [
    "Using ast.literal_eval() to change list format string type change into list type"
   ]
  },
  {
   "cell_type": "code",
   "execution_count": 22,
   "metadata": {},
   "outputs": [],
   "source": [
    "import ast\n",
    "\n",
    "semeval_train_rm_del_df[\"stage1_labels\"] = semeval_train_rm_del_df[\"stage1_labels\"].apply(lambda x: ast.literal_eval(x))"
   ]
  },
  {
   "cell_type": "code",
   "execution_count": 23,
   "metadata": {},
   "outputs": [
    {
     "data": {
      "text/plain": [
       "list"
      ]
     },
     "execution_count": 23,
     "metadata": {},
     "output_type": "execute_result"
    }
   ],
   "source": [
    "type(semeval_train_rm_del_df[\"stage1_labels\"][0])\n"
   ]
  },
  {
   "cell_type": "code",
   "execution_count": 24,
   "metadata": {},
   "outputs": [
    {
     "data": {
      "text/html": [
       "<div>\n",
       "<style scoped>\n",
       "    .dataframe tbody tr th:only-of-type {\n",
       "        vertical-align: middle;\n",
       "    }\n",
       "\n",
       "    .dataframe tbody tr th {\n",
       "        vertical-align: top;\n",
       "    }\n",
       "\n",
       "    .dataframe thead th {\n",
       "        text-align: right;\n",
       "    }\n",
       "</style>\n",
       "<table border=\"1\" class=\"dataframe\">\n",
       "  <thead>\n",
       "    <tr style=\"text-align: right;\">\n",
       "      <th></th>\n",
       "      <th>post_id</th>\n",
       "      <th>subreddit_id</th>\n",
       "      <th>stage1_labels</th>\n",
       "      <th>text</th>\n",
       "    </tr>\n",
       "  </thead>\n",
       "  <tbody>\n",
       "    <tr>\n",
       "      <th>0</th>\n",
       "      <td>s1jpia</td>\n",
       "      <td>t5_2s23e</td>\n",
       "      <td>[{'crowd-entity-annotation': {'entities': [{'e...</td>\n",
       "      <td>De-Nial\\nI wrote this a few years ago and just...</td>\n",
       "    </tr>\n",
       "    <tr>\n",
       "      <th>1</th>\n",
       "      <td>re7owg</td>\n",
       "      <td>t5_2s1h9</td>\n",
       "      <td>[{'crowd-entity-annotation': {'entities': [{'e...</td>\n",
       "      <td>Had a seizure for the first time in ten years\\...</td>\n",
       "    </tr>\n",
       "    <tr>\n",
       "      <th>2</th>\n",
       "      <td>r0nm2r</td>\n",
       "      <td>t5_2syer</td>\n",
       "      <td>[{'crowd-entity-annotation': {'entities': [{'e...</td>\n",
       "      <td>How long does it take to drop UA through diet/...</td>\n",
       "    </tr>\n",
       "    <tr>\n",
       "      <th>3</th>\n",
       "      <td>qmkuzj</td>\n",
       "      <td>t5_2rtve</td>\n",
       "      <td>[{'crowd-entity-annotation': {'entities': [{'e...</td>\n",
       "      <td>Im wondering what is the average age yall were...</td>\n",
       "    </tr>\n",
       "    <tr>\n",
       "      <th>4</th>\n",
       "      <td>sn5sqd</td>\n",
       "      <td>t5_2s3g1</td>\n",
       "      <td>[{'crowd-entity-annotation': {'entities': [{'e...</td>\n",
       "      <td>Has anyone taken amitriptyline and found it to...</td>\n",
       "    </tr>\n",
       "    <tr>\n",
       "      <th>...</th>\n",
       "      <td>...</td>\n",
       "      <td>...</td>\n",
       "      <td>...</td>\n",
       "      <td>...</td>\n",
       "    </tr>\n",
       "    <tr>\n",
       "      <th>5689</th>\n",
       "      <td>st6mwp</td>\n",
       "      <td>t5_2s3g1</td>\n",
       "      <td>[{'crowd-entity-annotation': {'entities': [{'e...</td>\n",
       "      <td>who else cant go 48 hrs without diarrhea??\\nev...</td>\n",
       "    </tr>\n",
       "    <tr>\n",
       "      <th>5690</th>\n",
       "      <td>sypylg</td>\n",
       "      <td>t5_2saq9</td>\n",
       "      <td>[{'crowd-entity-annotation': {'entities': [{'e...</td>\n",
       "      <td>CPR Training Concerns\\nI have to do CPR traini...</td>\n",
       "    </tr>\n",
       "    <tr>\n",
       "      <th>5691</th>\n",
       "      <td>sivvy6</td>\n",
       "      <td>t5_2r876</td>\n",
       "      <td>[{'crowd-entity-annotation': {'entities': [{'e...</td>\n",
       "      <td>Has anyone in the US started going back to wor...</td>\n",
       "    </tr>\n",
       "    <tr>\n",
       "      <th>5693</th>\n",
       "      <td>rdbdw7</td>\n",
       "      <td>t5_2s1h9</td>\n",
       "      <td>[{'crowd-entity-annotation': {'entities': []}}]</td>\n",
       "      <td>Curious about other people's experience in the...</td>\n",
       "    </tr>\n",
       "    <tr>\n",
       "      <th>5694</th>\n",
       "      <td>ri83g1</td>\n",
       "      <td>t5_2r876</td>\n",
       "      <td>[{'crowd-entity-annotation': {'entities': [{'e...</td>\n",
       "      <td>How effective are the gene modulators in treat...</td>\n",
       "    </tr>\n",
       "  </tbody>\n",
       "</table>\n",
       "<p>5017 rows × 4 columns</p>\n",
       "</div>"
      ],
      "text/plain": [
       "     post_id subreddit_id                                      stage1_labels  \\\n",
       "0     s1jpia     t5_2s23e  [{'crowd-entity-annotation': {'entities': [{'e...   \n",
       "1     re7owg     t5_2s1h9  [{'crowd-entity-annotation': {'entities': [{'e...   \n",
       "2     r0nm2r     t5_2syer  [{'crowd-entity-annotation': {'entities': [{'e...   \n",
       "3     qmkuzj     t5_2rtve  [{'crowd-entity-annotation': {'entities': [{'e...   \n",
       "4     sn5sqd     t5_2s3g1  [{'crowd-entity-annotation': {'entities': [{'e...   \n",
       "...      ...          ...                                                ...   \n",
       "5689  st6mwp     t5_2s3g1  [{'crowd-entity-annotation': {'entities': [{'e...   \n",
       "5690  sypylg     t5_2saq9  [{'crowd-entity-annotation': {'entities': [{'e...   \n",
       "5691  sivvy6     t5_2r876  [{'crowd-entity-annotation': {'entities': [{'e...   \n",
       "5693  rdbdw7     t5_2s1h9    [{'crowd-entity-annotation': {'entities': []}}]   \n",
       "5694  ri83g1     t5_2r876  [{'crowd-entity-annotation': {'entities': [{'e...   \n",
       "\n",
       "                                                   text  \n",
       "0     De-Nial\\nI wrote this a few years ago and just...  \n",
       "1     Had a seizure for the first time in ten years\\...  \n",
       "2     How long does it take to drop UA through diet/...  \n",
       "3     Im wondering what is the average age yall were...  \n",
       "4     Has anyone taken amitriptyline and found it to...  \n",
       "...                                                 ...  \n",
       "5689  who else cant go 48 hrs without diarrhea??\\nev...  \n",
       "5690  CPR Training Concerns\\nI have to do CPR traini...  \n",
       "5691  Has anyone in the US started going back to wor...  \n",
       "5693  Curious about other people's experience in the...  \n",
       "5694  How effective are the gene modulators in treat...  \n",
       "\n",
       "[5017 rows x 4 columns]"
      ]
     },
     "execution_count": 24,
     "metadata": {},
     "output_type": "execute_result"
    }
   ],
   "source": [
    "semeval_train_rm_del_df"
   ]
  },
  {
   "cell_type": "code",
   "execution_count": 25,
   "metadata": {},
   "outputs": [
    {
     "data": {
      "text/html": [
       "<div>\n",
       "<style scoped>\n",
       "    .dataframe tbody tr th:only-of-type {\n",
       "        vertical-align: middle;\n",
       "    }\n",
       "\n",
       "    .dataframe tbody tr th {\n",
       "        vertical-align: top;\n",
       "    }\n",
       "\n",
       "    .dataframe thead th {\n",
       "        text-align: right;\n",
       "    }\n",
       "</style>\n",
       "<table border=\"1\" class=\"dataframe\">\n",
       "  <thead>\n",
       "    <tr style=\"text-align: right;\">\n",
       "      <th></th>\n",
       "      <th>post_id</th>\n",
       "      <th>subreddit_id</th>\n",
       "      <th>text</th>\n",
       "    </tr>\n",
       "  </thead>\n",
       "  <tbody>\n",
       "    <tr>\n",
       "      <th>0</th>\n",
       "      <td>pwns5j</td>\n",
       "      <td>t5_2r876</td>\n",
       "      <td>Speeding fine\\nI know this could be my anxiety...</td>\n",
       "    </tr>\n",
       "    <tr>\n",
       "      <th>1</th>\n",
       "      <td>rm5t18</td>\n",
       "      <td>t5_2qlaa</td>\n",
       "      <td>Food Recipe Wednesday\\n**This is your** r/GERD...</td>\n",
       "    </tr>\n",
       "    <tr>\n",
       "      <th>2</th>\n",
       "      <td>paw773</td>\n",
       "      <td>t5_2syer</td>\n",
       "      <td>Trigger Foods &amp; Diet\\nUnderstanding medication...</td>\n",
       "    </tr>\n",
       "    <tr>\n",
       "      <th>3</th>\n",
       "      <td>sk2zb2</td>\n",
       "      <td>t5_2s3g1</td>\n",
       "      <td>Any quick relief remedies for the stomach cram...</td>\n",
       "    </tr>\n",
       "    <tr>\n",
       "      <th>4</th>\n",
       "      <td>scofpi</td>\n",
       "      <td>t5_2saq9</td>\n",
       "      <td>Canker sores\\nAnyone else get them often ? And...</td>\n",
       "    </tr>\n",
       "    <tr>\n",
       "      <th>...</th>\n",
       "      <td>...</td>\n",
       "      <td>...</td>\n",
       "      <td>...</td>\n",
       "    </tr>\n",
       "    <tr>\n",
       "      <th>1419</th>\n",
       "      <td>rn4kqy</td>\n",
       "      <td>t5_2rtve</td>\n",
       "      <td>Is there someone whose job it is to help peopl...</td>\n",
       "    </tr>\n",
       "    <tr>\n",
       "      <th>1420</th>\n",
       "      <td>swwjjc</td>\n",
       "      <td>t5_2s3g1</td>\n",
       "      <td>Something different is happening..\\nI've had I...</td>\n",
       "    </tr>\n",
       "    <tr>\n",
       "      <th>1421</th>\n",
       "      <td>p9c2hv</td>\n",
       "      <td>t5_2syer</td>\n",
       "      <td>First 2 weeks on allopurinol\\nHi guys. Im a 26...</td>\n",
       "    </tr>\n",
       "    <tr>\n",
       "      <th>1422</th>\n",
       "      <td>ripncf</td>\n",
       "      <td>t5_2s1h9</td>\n",
       "      <td>Seizure After Booster\\nNot saying the booster ...</td>\n",
       "    </tr>\n",
       "    <tr>\n",
       "      <th>1423</th>\n",
       "      <td>rntijr</td>\n",
       "      <td>t5_2qlaa</td>\n",
       "      <td>Why does chewing my food slowly get rid of ger...</td>\n",
       "    </tr>\n",
       "  </tbody>\n",
       "</table>\n",
       "<p>1264 rows × 3 columns</p>\n",
       "</div>"
      ],
      "text/plain": [
       "     post_id subreddit_id                                               text\n",
       "0     pwns5j     t5_2r876  Speeding fine\\nI know this could be my anxiety...\n",
       "1     rm5t18     t5_2qlaa  Food Recipe Wednesday\\n**This is your** r/GERD...\n",
       "2     paw773     t5_2syer  Trigger Foods & Diet\\nUnderstanding medication...\n",
       "3     sk2zb2     t5_2s3g1  Any quick relief remedies for the stomach cram...\n",
       "4     scofpi     t5_2saq9  Canker sores\\nAnyone else get them often ? And...\n",
       "...      ...          ...                                                ...\n",
       "1419  rn4kqy     t5_2rtve  Is there someone whose job it is to help peopl...\n",
       "1420  swwjjc     t5_2s3g1  Something different is happening..\\nI've had I...\n",
       "1421  p9c2hv     t5_2syer  First 2 weeks on allopurinol\\nHi guys. Im a 26...\n",
       "1422  ripncf     t5_2s1h9  Seizure After Booster\\nNot saying the booster ...\n",
       "1423  rntijr     t5_2qlaa  Why does chewing my food slowly get rid of ger...\n",
       "\n",
       "[1264 rows x 3 columns]"
      ]
     },
     "execution_count": 25,
     "metadata": {},
     "output_type": "execute_result"
    }
   ],
   "source": [
    "semeval_test_rm_del_df"
   ]
  },
  {
   "cell_type": "markdown",
   "metadata": {},
   "source": [
    "## train, test removed deleted post numbers\n",
    "train number: 5017\n",
    "test number: 1264"
   ]
  },
  {
   "cell_type": "code",
   "execution_count": null,
   "metadata": {},
   "outputs": [],
   "source": []
  },
  {
   "cell_type": "markdown",
   "metadata": {},
   "source": [
    "# Visualize Data with labels to get more info from subtask 8.1\n",
    "\n",
    "## using termcolor visualize different labels\n"
   ]
  },
  {
   "cell_type": "code",
   "execution_count": 26,
   "metadata": {},
   "outputs": [],
   "source": [
    "from IPython.display import HTML as html_print\n",
    "def cstr(s, color='dark gray'):\n",
    "    return \"<text style=color:{}>{}</text>\".format(color, s)\n",
    "\n",
    "def display(df_row):\n",
    "    def idx_in(idx, labels, f = True):\n",
    "        labels_color = {\"claim\": \"#FF431B;\", \"per_exp\": \"#46980D;\", \"claim_per_exp\": \"#0D6598;\", \"question\": \"#960B98;\"}\n",
    "        for label in labels:\n",
    "            if label[\"startOffset\"] == idx:\n",
    "                return f\"<text style=color:{labels_color[label['label']]}>\"\n",
    "            if f:\n",
    "                if label[\"endOffset\"] == idx:\n",
    "                    return \"</text>\" + idx_in(idx, labels, f=False)\n",
    "        return \"\"\n",
    "\n",
    "    labels = df_row[\"stage1_labels\"][0][\"crowd-entity-annotation\"][\"entities\"]\n",
    "    text = df_row[\"text\"]\n",
    "    html = \"\"\n",
    "    for idx in range(len(text)):\n",
    "        html += idx_in(idx, labels) + text[idx]\n",
    "    return html"
   ]
  },
  {
   "cell_type": "markdown",
   "metadata": {},
   "source": [
    "## labels correspond to color\n",
    "* Claim: Orange\n",
    "* per_exp: Green\n",
    "* claim_per_exp: Blue\n",
    "* question: Purple"
   ]
  },
  {
   "cell_type": "code",
   "execution_count": 27,
   "metadata": {},
   "outputs": [
    {
     "data": {
      "text/html": [
       "<text style=color:dark gray>De-Nial\n",
       "I wrote this a few years ago and just found it again.  I thought I'd share...\n",
       "\n",
       "&#x200B;\n",
       "\n",
       "When I was 17, it was a very good year. Like the opening line of the old Frank Sanatra song, when I was 17, it truly was a very good year. I was getting ready to graduate high school, I had deeply bonded friends, I loved where I lived, and I had amazing parents.  \n",
       "\n",
       "Growing up I was an only child with older parents, which is probably why I like Frank Sanatras music, and knew I could do or be anything I wanted. After graduating High School, I went to the local community college, moved in with my boyfriend at the time, and had a pretty standard start to adult-h<text style=color:#46980D;>ood. It seems like so long ago now, but one morning I woke up and my left side wasnt responding as fast as my right side. It felt heavy, it was hard to wash my hair, it lasted a few hours, then wen</text>t away. This went on for several days, and when I mentioned it to my mom, her response was, Youre going to the emergency room!!\n",
       "\n",
       "After several hours at the hospital, several days of blood tests, an MRI, and a false test result of hepatitis C, I was referred to a neurologist who suspected MS, but wanted to do a spinal tap. My mom flat out refused, and we drove an hour to see a neurologist who specialized in MS. She took one look at my MRI and confirmed the diagnosis (only a few days after my 21st birthday). She recommended Copaxone, and told me that it was good they caught it early and that I should still lead a relatively normal life.\n",
       "\n",
       "De-Nial is NOT just a river in Egypt.\n",
       "\n",
       "I went home feeling a bit shocked, a lot overwhelmed, and A LOT of denial.\n",
       "\n",
       "Looking back I realize that, what the doctor said is probably true for someone on the other side of a diagnosis like MS. Even today almost twenty years later, if Im sitting down, most people cant tell I have anything wrong with me. I dont look <text style=color:#46980D;>sick.\n",
       "\n",
       "I went on with my life as usual. Relapsing Remitting MS is a horrible monster, it lulls you into a false sense of security, believing nothing is really wrong. My original symptoms had resolved and I went on as I always had. I wasnt great about taking the Copaxone everyday, what 21 year old wants to give themselves a shot every day when they fe</text>el fine?\n",
       "\n",
       "De-Nial is NOT just a river in E<text style=color:#46980D;>gypt.\n",
       "\n",
       "I had a few exacerbations that were treated with steroids over the next several years, but always my symptoms went away and I went back to life a</text>s usual. Three years after my diagnosis I met my future husband, he proposed and I moved 1,100 miles away from California to Colorado. We had, and continue to have, a good life (even if everything is harder now). We used to hike and camp and do all the things young active people are known <text style=color:#0D6598;>to do. Four years later my MS acts up again and my doctor changes my Copaxone to Tysabri. I responded very well to the Tysabri and once again, all my symptoms abated.\n",
       "\n",
       "At this point, ten years after my diagnosis, I still felt pretty good. I did get tired easily, and I did notice I couldnt handle the heat as well as I used to, but overall, yes, I lead a normal life. I thought things would continue on this way indefinitely. I was told that the first ten years were the worst and if symptoms and lessons could be kept under control, I should continue to do</text> well.\n",
       "\n",
       "De-Nial is NOT just a river in E<text style=color:#0D6598;>gypt.\n",
       "\n",
       "After being on Tysabri for three or four years, I stopped responding, and was put on Rituxan. This time, the symptoms did not resolve. I continued to have numbness in my hands and feet, bad vertigo, and slow response on my left side. The symptoms had come full circle, landing back where they started, in my left leg an</text>d<text style=color:#0D6598;> arm.\n",
       "\n",
       "While the Rituxan has held the line in the sense that I have no new lesions in the last several years. I have slowly gotten</text> <text style=color:#46980D;>worse. I went from being able to walk relatively well for several blocks, to walking very slowly with a cain and bad limp, then walking with a walker very short distances and using a chair when we leave the house. The numbness in my hands is extremely frustrating, and my balance is pretty much non existent. I cant walk over a totally flat surface without holding onto something. I cant cook elaborate holiday meals like I used to, I simply cant stand up that long, and Ive started using those electric carts when I have to go to the grocery store. I have gone from a full-time job, to part time, because my body wont put up with anything more. I feel like a burden to my husband, who continues to love me anyway, without compl</text>ai<text style=color:#960B98;>nt.  \n",
       "\n",
       "Why do we believe denial is an effective approach to monumental changes like a diagnosis of a chronic illness? What part of our evolution taught us to take a page from the ostrich and believe that if we stick our head in the sand, the danger will go away and all will be</text> well? I have no answers to these questions, but I will tell you, if you are reading this, and are newly diagnosed with a chronic illness, dont visit De-Nial. It may be a pretty place for a short time, but you will regret your unplanned vacation in the end.</text>"
      ],
      "text/plain": [
       "<IPython.core.display.HTML object>"
      ]
     },
     "execution_count": 27,
     "metadata": {},
     "output_type": "execute_result"
    }
   ],
   "source": [
    "data_id = 0\n",
    "html_print(cstr(display(semeval_train_rm_del_df.loc[data_id])))\n",
    "\n"
   ]
  },
  {
   "cell_type": "code",
   "execution_count": 28,
   "metadata": {},
   "outputs": [
    {
     "data": {
      "text/plain": [
       "[{'crowd-entity-annotation': {'entities': [{'endOffset': 858,\n",
       "     'label': 'per_exp',\n",
       "     'startOffset': 661},\n",
       "    {'endOffset': 2213, 'label': 'per_exp', 'startOffset': 1861},\n",
       "    {'endOffset': 2407, 'label': 'per_exp', 'startOffset': 2255},\n",
       "    {'endOffset': 3254, 'label': 'claim_per_exp', 'startOffset': 2697},\n",
       "    {'endOffset': 3620, 'label': 'claim_per_exp', 'startOffset': 3294},\n",
       "    {'endOffset': 3751, 'label': 'claim_per_exp', 'startOffset': 3621},\n",
       "    {'endOffset': 4480, 'label': 'per_exp', 'startOffset': 3752},\n",
       "    {'endOffset': 4759, 'label': 'question', 'startOffset': 4482}]}}]"
      ]
     },
     "execution_count": 28,
     "metadata": {},
     "output_type": "execute_result"
    }
   ],
   "source": [
    "semeval_train_rm_del_df.loc[data_id][\"stage1_labels\"]"
   ]
  },
  {
   "cell_type": "code",
   "execution_count": null,
   "metadata": {},
   "outputs": [],
   "source": []
  }
 ],
 "metadata": {
  "kernelspec": {
   "display_name": "Python 3.8.13 ('semeval')",
   "language": "python",
   "name": "python3"
  },
  "language_info": {
   "codemirror_mode": {
    "name": "ipython",
    "version": 3
   },
   "file_extension": ".py",
   "mimetype": "text/x-python",
   "name": "python",
   "nbconvert_exporter": "python",
   "pygments_lexer": "ipython3",
   "version": "3.8.13"
  },
  "orig_nbformat": 4,
  "vscode": {
   "interpreter": {
    "hash": "deb1e1f5cfae983ab505c9bae74ebb5d4a17f7d88f36424946c6ae8940adcde0"
   }
  }
 },
 "nbformat": 4,
 "nbformat_minor": 2
}
